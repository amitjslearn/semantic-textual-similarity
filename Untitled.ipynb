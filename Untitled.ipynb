{
 "cells": [
  {
   "cell_type": "markdown",
   "metadata": {},
   "source": [
    "# Semantic Textual Similarity"
   ]
  },
  {
   "cell_type": "code",
   "execution_count": 22,
   "metadata": {},
   "outputs": [
    {
     "name": "stdout",
     "output_type": "stream",
     "text": [
      "Requirement already satisfied: modin in /home/amit/anaconda3/lib/python3.7/site-packages (0.6.3)\n",
      "Requirement already satisfied: pandas==0.25.3 in /home/amit/anaconda3/lib/python3.7/site-packages (from modin) (0.25.3)\n",
      "Requirement already satisfied: python-dateutil>=2.6.1 in /home/amit/anaconda3/lib/python3.7/site-packages (from pandas==0.25.3->modin) (2.8.0)\n",
      "Requirement already satisfied: pytz>=2017.2 in /home/amit/anaconda3/lib/python3.7/site-packages (from pandas==0.25.3->modin) (2019.3)\n",
      "Requirement already satisfied: numpy>=1.13.3 in /home/amit/anaconda3/lib/python3.7/site-packages (from pandas==0.25.3->modin) (1.17.2)\n",
      "Requirement already satisfied: six>=1.5 in /home/amit/anaconda3/lib/python3.7/site-packages (from python-dateutil>=2.6.1->pandas==0.25.3->modin) (1.12.0)\n"
     ]
    }
   ],
   "source": [
    "!pip install modin"
   ]
  },
  {
   "cell_type": "code",
   "execution_count": 27,
   "metadata": {},
   "outputs": [
    {
     "name": "stdout",
     "output_type": "stream",
     "text": [
      "Requirement already satisfied: modin[dask] in /home/amit/anaconda3/lib/python3.7/site-packages (0.6.3)\n",
      "Requirement already satisfied: pandas==0.25.3 in /home/amit/anaconda3/lib/python3.7/site-packages (from modin[dask]) (0.25.3)\n",
      "Requirement already satisfied: dask>=2.1.0; extra == \"dask\" in /home/amit/anaconda3/lib/python3.7/site-packages (from modin[dask]) (2.5.2)\n",
      "Requirement already satisfied: distributed>=2.3.2; extra == \"dask\" in /home/amit/anaconda3/lib/python3.7/site-packages (from modin[dask]) (2.5.2)\n",
      "Requirement already satisfied: numpy>=1.13.3 in /home/amit/anaconda3/lib/python3.7/site-packages (from pandas==0.25.3->modin[dask]) (1.17.2)\n",
      "Requirement already satisfied: pytz>=2017.2 in /home/amit/anaconda3/lib/python3.7/site-packages (from pandas==0.25.3->modin[dask]) (2019.3)\n",
      "Requirement already satisfied: python-dateutil>=2.6.1 in /home/amit/anaconda3/lib/python3.7/site-packages (from pandas==0.25.3->modin[dask]) (2.8.0)\n",
      "Requirement already satisfied: toolz>=0.7.4 in /home/amit/anaconda3/lib/python3.7/site-packages (from distributed>=2.3.2; extra == \"dask\"->modin[dask]) (0.10.0)\n",
      "Requirement already satisfied: tblib in /home/amit/anaconda3/lib/python3.7/site-packages (from distributed>=2.3.2; extra == \"dask\"->modin[dask]) (1.4.0)\n",
      "Requirement already satisfied: click>=6.6 in /home/amit/anaconda3/lib/python3.7/site-packages (from distributed>=2.3.2; extra == \"dask\"->modin[dask]) (7.0)\n",
      "Requirement already satisfied: psutil>=5.0 in /home/amit/anaconda3/lib/python3.7/site-packages (from distributed>=2.3.2; extra == \"dask\"->modin[dask]) (5.6.3)\n",
      "Requirement already satisfied: msgpack in /home/amit/anaconda3/lib/python3.7/site-packages (from distributed>=2.3.2; extra == \"dask\"->modin[dask]) (0.6.1)\n",
      "Requirement already satisfied: zict>=0.1.3 in /home/amit/anaconda3/lib/python3.7/site-packages (from distributed>=2.3.2; extra == \"dask\"->modin[dask]) (1.0.0)\n",
      "Requirement already satisfied: sortedcontainers!=2.0.0,!=2.0.1 in /home/amit/anaconda3/lib/python3.7/site-packages (from distributed>=2.3.2; extra == \"dask\"->modin[dask]) (2.1.0)\n",
      "Requirement already satisfied: pyyaml in /home/amit/anaconda3/lib/python3.7/site-packages (from distributed>=2.3.2; extra == \"dask\"->modin[dask]) (5.1.2)\n",
      "Requirement already satisfied: tornado>=5 in /home/amit/anaconda3/lib/python3.7/site-packages (from distributed>=2.3.2; extra == \"dask\"->modin[dask]) (6.0.3)\n",
      "Requirement already satisfied: cloudpickle>=0.2.2 in /home/amit/anaconda3/lib/python3.7/site-packages (from distributed>=2.3.2; extra == \"dask\"->modin[dask]) (1.2.2)\n",
      "Requirement already satisfied: six>=1.5 in /home/amit/anaconda3/lib/python3.7/site-packages (from python-dateutil>=2.6.1->pandas==0.25.3->modin[dask]) (1.12.0)\n",
      "Requirement already satisfied: heapdict in /home/amit/anaconda3/lib/python3.7/site-packages (from zict>=0.1.3->distributed>=2.3.2; extra == \"dask\"->modin[dask]) (1.0.1)\n"
     ]
    }
   ],
   "source": [
    "!pip install modin[dask]"
   ]
  },
  {
   "cell_type": "code",
   "execution_count": 23,
   "metadata": {},
   "outputs": [
    {
     "name": "stdout",
     "output_type": "stream",
     "text": [
      "/home/amit/anaconda3/bin/pip\n"
     ]
    }
   ],
   "source": [
    "!which pip"
   ]
  },
  {
   "cell_type": "code",
   "execution_count": 41,
   "metadata": {},
   "outputs": [
    {
     "name": "stdout",
     "output_type": "stream",
     "text": [
      "Collecting package metadata (current_repodata.json): done\n",
      "Solving environment: failed with initial frozen solve. Retrying with flexible solve.\n",
      "Solving environment: failed with repodata from current_repodata.json, will retry with next repodata source.\n",
      "Collecting package metadata (repodata.json): done\n",
      "Solving environment: failed with initial frozen solve. Retrying with flexible solve.\n",
      "Solving environment: / \n",
      "Found conflicts! Looking for incompatible packages.\n",
      "This can take several minutes.  Press CTRL-C to abort.\n",
      "Examining pandas:  33%|██████▊              | 115/352 [00:00<00:00, 5482.56it/s]       \n",
      "Comparing specs that have this dependency:   0%|          | 0/9 [00:00<?, ?it/s]\u001b[A\n",
      "\n",
      "Finding conflict paths:   0%|                             | 0/2 [00:00<?, ?it/s]\u001b[A\u001b[A\n",
      "\n",
      "Finding shortest conflict path for pandas[version='>=0.23.4']:   0%| | 0/2 [00:00<?, ?it/s]\u001b[A\u001b[A\n",
      "\n",
      "Finding shortest conflict path for pandas=0.25.3:  50%|▌| 1/2 [00:00<00:00, 74.51it/s]     \u001b[A\u001b- \n",
      "\n",
      "                                                                                      \u001b[A\u001b[A\n",
      "Comparing specs that have this dependency:  11%|▏ | 1/9 [00:24<03:12, 24.12s/it]\u001b[A\n",
      "\n",
      "Finding conflict paths:   0%|                             | 0/1 [00:00<?, ?it/s]\u001b[A\u001b[A\n",
      "\n",
      "Finding shortest conflict path for pandas=0.25.3:   0%|   | 0/1 [00:00<?, ?it/s]\u001b[A\u001b[A\n",
      "\n",
      "                                                                                \u001b[A\u001b[A\n",
      "\n",
      "Finding conflict paths:   0%|                             | 0/3 [00:00<?, ?it/s]\u001b[A\u001b[A\n",
      "\n",
      "Finding shortest conflict path for pandas=0.25.3:   0%|   | 0/3 [00:00<?, ?it/s]\u001b[A\u001b| \n",
      "\n",
      "Finding shortest conflict path for pandas:  33%|▋ | 1/3 [01:01<02:03, 61.62s/it]\u001b[A\u001b[A\n",
      "\n",
      "Finding shortest conflict path for pandas:  67%|█▎| 2/3 [01:01<00:30, 30.81s/it]\u001b[A\u001b[A\n",
      "\n",
      "Finding shortest conflict path for pandas[version='>=0.14']:  67%|▋| 2/3 [01:01<00:30, 30.81s/it]\u001b[A\u001b[A\n",
      "\n",
      "                                                                                                 \u001b[A\u001b[A\n",
      "Comparing specs that have this dependency:  33%|▋ | 3/9 [01:25<02:51, 28.60s/i/ \u001b[A\n",
      "\n",
      "Finding conflict paths:   0%|                             | 0/2 [00:00<?, ?it/s]\u001b[A\u001b[A\n",
      "\n",
      "Finding shortest conflict path for pandas:   0%|          | 0/2 [00:00<?, ?it/s]\u001b[A\u001b[A\n",
      "\n",
      "Finding shortest conflict path for pandas=0.25.3:  50%|▌| 1/2 [00:00<00:00, 16.07it/s]\u001b[A\u001b/ \n",
      "\n",
      "                                                                                      \u001b[A\u001b[A\n",
      "Comparing specs that have this dependency:  44%|▉ | 4/9 [02:36<03:15, 39.17s/it]\u001b[A\n",
      "\n",
      "Finding conflict paths:   0%|                             | 0/4 [00:00<?, ?it/s]\u001b[A\u001b[A\n",
      "\n",
      "Finding shortest conflict path for pandas[version='>=0.21.0']:   0%| | 0/4 [00:00<?, ?it/s]\u001b[A\u001b| \n",
      "\n",
      "Finding shortest conflict path for pandas[version='>=0.19.0']:  25%|▎| 1/4 [00:00<00:01,  2.31it/s]\u001b[A\u001b[A\n",
      "\n",
      "Finding shortest conflict path for pandas[version='>=0.19.0']:  50%|▌| 2/4 [00:00<00:00,  4.62it/s]\u001b[A\u001b[A\n",
      "\n",
      "Finding shortest conflict path for pandas:  50%|█ | 2/4 [00:00<00:00,  4.62it/s]                   \u001b[A\u001b| \n",
      "\n",
      "Finding shortest conflict path for pandas=0.25.3:  75%|▊| 3/4 [00:01<00:00,  4.62it/s]\u001b[A\u001b[A\n",
      "\n",
      "Finding shortest conflict path for pandas=0.25.3: 100%|█| 4/4 [00:01<00:00,  3.08it/s]\u001b[A\u001b- \n",
      "\n",
      "                                                                                      \u001b[A\u001b[A\n",
      "Comparing specs that have this dependency:  56%|█ | 5/9 [05:46<04:37, 69.26s/it]\u001b[A\n",
      "\n",
      "Finding conflict paths:   0%|                             | 0/4 [00:00<?, ?it/s]\u001b[A\u001b[A\n",
      "\n",
      "Finding shortest conflict path for pandas=0.25.3:   0%|   | 0/4 [00:00<?, ?it/s]\u001b[A\u001b- \n",
      "\n",
      "Finding shortest conflict path for pandas[version='>=0.14.0']:  25%|▎| 1/4 [01:23<04:10, 83.52s/it]\u001b[A\u001b[A\n",
      "\n",
      "Finding shortest conflict path for pandas[version='>=0.14.0']:  50%|▌| 2/4 [01:23<01:23, 41.76s/it]\u001b[A\u001b\\ \n",
      "\n",
      "Finding shortest conflict path for pandas:  50%|█ | 2/4 [01:23<01:23, 41.76s/it]                   \u001b[A\u001b[A\n",
      "\n",
      "Finding shortest conflict path for pandas[version='>=0.14']:  75%|▊| 3/4 [01:23<00:41, 41.76s/it]\u001b[A\u001b| \n",
      "\n",
      "                                                                                                 \u001b[A\u001b[A\n",
      "Comparing specs that have this dependency:  67%|█▎| 6/9 [07:14<03:37, 72.45s/it]\u001b[A\n",
      "\n",
      "Finding conflict paths:   0%|                             | 0/4 [00:00<?, ?it/s]\u001b[A\u001b[A\n",
      "\n",
      "Finding shortest conflict path for pandas[version='>=0.21.0']:   0%| | 0/4 [00:00<?, ?it/s]\u001b[A\u001b\\ \n",
      "\n",
      "Finding shortest conflict path for pandas[version='>=0.19.0']:  25%|▎| 1/4 [00:00<00:01,  1.81it/s]\u001b[A\u001b[A\n",
      "\n",
      "Finding shortest conflict path for pandas[version='>=0.19.0']:  50%|▌| 2/4 [00:00<00:00,  3.63it/s]\u001b[A\u001b| \n",
      "\n",
      "Finding shortest conflict path for pandas:  50%|█ | 2/4 [00:00<00:00,  3.63it/s]                   \u001b[A\u001b[A\n",
      "\n",
      "Finding shortest conflict path for pandas:  75%|█▌| 3/4 [00:00<00:00,  4.07it/s]\u001b[A\u001b| \n",
      "\n",
      "Finding shortest conflict path for pandas=0.25.3:  75%|▊| 3/4 [00:17<00:00,  4.07it/s]\u001b[A\u001b[A\n",
      "\n",
      "Finding shortest conflict path for pandas=0.25.3: 100%|█| 4/4 [00:17<00:00,  5.09s/it]\u001b[A\u001b- \n",
      "\n",
      "                                                                                    \\ \u001b[A\u001b[A\n",
      "Comparing specs that have this dependency:  78%|█▌| 7/9 [11:38<03:19, 99.77s/it]\u001b[A\n",
      "\n",
      "Finding conflict paths:   0%|                             | 0/9 [00:00<?, ?it/s]\u001b[A\u001b[A\n",
      "\n",
      "Finding shortest conflict path for pandas==0.25.1=py36he6710b0_0:   0%| | 0/9 [00:00<?, ?it/s]\u001b[A\u001b- \n",
      "\n",
      "Finding shortest conflict path for pandas:  11%|▏ | 1/9 [00:00<00:06,  1.23it/s]              \u001b[A\u001b[A\n",
      "\n",
      "Finding shortest conflict path for pandas:  22%|▍ | 2/9 [00:00<00:02,  2.45it/s]\u001b[A\u001b\\ \n",
      "\n",
      "Finding shortest conflict path for pandas[version='>=0.14']:  22%|▏| 2/9 [00:02<00:02,  2.45it/s]\u001b[A\u001b[A\n",
      "\n",
      "Finding shortest conflict path for pandas[version='>=0.14']:  33%|▎| 3/9 [00:02<00:04,  1.42it/s]\u001b[A\u001b| \n",
      "\n",
      "Finding shortest conflict path for pandas=0.25.3:  33%|▎| 3/9 [00:08<00:04,  1.42it/s]           \u001b[A\u001b[A\n",
      "\n",
      "Finding shortest conflict path for pandas=0.25.3:  44%|▍| 4/9 [00:08<00:12,  2.53s/it]\u001b[A\u001b| \n",
      "\n",
      "Finding shortest conflict path for pandas[version='>=0.21.0']:  44%|▍| 4/9 [00:37<00:12,  2.53s/it]\u001b[A\u001b[A\n",
      "\n",
      "Finding shortest conflict path for pandas[version='>=0.21.0']:  56%|▌| 5/9 [00:37<00:41, 10.37s/it]\u001b[A\u001b/ \n",
      "\n",
      "Finding shortest conflict path for pandas[version='>=0.19.0']:  56%|▌| 5/9 [00:39<00:41, 10.37s/it]\u001b[A\u001b[A\n",
      "\n",
      "Finding shortest conflict path for pandas[version='>=0.19.0']:  67%|▋| 6/9 [00:39<00:23,  7.82s/it]\u001b[A\u001b- \n",
      "\n",
      "Finding shortest conflict path for pandas==0.25.1=py37he6710b0_0:  67%|▋| 6/9 [00:41<00:23,  7.82s/it]\u001b[A\u001b[A\n",
      "\n",
      "Finding shortest conflict path for pandas==0.25.1=py37he6710b0_0:  78%|▊| 7/9 [00:41<00:12,  6.04s/it]\u001b[A\u001b- \n",
      "\n",
      "Finding shortest conflict path for pandas==0.24.2=py27he6710b0_0:  78%|▊| 7/9 [00:41<00:12,  6.04s/it]\u001b[A\u001b[A\n",
      "\n",
      "Finding shortest conflict path for pandas==0.24.2=py27he6710b0_0:  89%|▉| 8/9 [00:41<00:04,  4.37s/it]\u001b[A\u001b| \n",
      "\n",
      "Finding shortest conflict path for pandas[version='>=0.14.0']:  89%|▉| 8/9 [00:42<00:04,  4.37s/it]   \u001b[A\u001b[A\n",
      "\n",
      "Finding shortest conflict path for pandas[version='>=0.14.0']: 100%|█| 9/9 [00:42<00:00,  3.09s/it]\u001b[A\u001b- \n",
      "\n",
      "                                                                                                   \u001b[A\u001b[A\n",
      "Comparing specs that have this dependency:  89%|█▊| 8/9 [12:27<01:33, 93.43s/it]\u001b[A\n",
      "\n",
      "Finding conflict paths:   0%|                             | 0/2 [00:00<?, ?it/s]\u001b[A\u001b[A\n",
      "\n",
      "Finding shortest conflict path for pandas:   0%|          | 0/2 [00:00<?, ?it/s]\u001b[A\u001b[A\n",
      "\n",
      "Finding shortest conflict path for pandas=0.25.3:  50%|▌| 1/2 [00:00<00:00, 62.04it/s]\u001b[A\u001b/ \n",
      "\n",
      "                                                                                      \u001b[A\u001b[A\n",
      "Comparing specs that have this dependency: 100%|██| 9/9 [13:14<00:00, 88.32s/it]\u001b[A\n",
      "                                                                                 [failed\n",
      "\n",
      "UnsatisfiableError: The following specifications were found to be incompatible with each other:\n",
      "\n",
      "\n",
      "\n",
      "Package pandas conflicts for:\n",
      "pandas=0.25.3\n",
      "dask -> bokeh -> pandas\n",
      "seaborn -> pandas[version='>=0.14.0']\n",
      "seaborn -> statsmodels -> pandas[version='>=0.14']\n",
      "bkcharts -> pandas\n",
      "anaconda==2019.10 -> pandas[version='0.24.2|0.25.1|0.25.1',build='py37he6710b0_0|py36he6710b0_0|py27he6710b0_0']\n",
      "dask -> pandas[version='>=0.19.0|>=0.21.0']\n",
      "scikit-image -> dask[version='>=0.5'] -> pandas[version='>=0.19.0|>=0.21.0']\n",
      "bokeh -> pandas\n",
      "scikit-image -> dask[version='>=0.5'] -> bokeh -> pandas\n",
      "statsmodels -> pandas[version='>=0.14']\n",
      "mlxtend -> pandas[version='>=0.23.4']\n",
      "anaconda==2019.10 -> bkcharts==0.2=py27_0 -> pandas[version='>=0.14|>=0.14.0|>=0.19.0|>=0.21.0']\n",
      "\n"
     ]
    }
   ],
   "source": [
    "!conda install pandas=0.25.3"
   ]
  },
  {
   "cell_type": "code",
   "execution_count": 17,
   "metadata": {},
   "outputs": [],
   "source": [
    "!export MODIN_ENGINE=ray  # Modin will use Ray"
   ]
  },
  {
   "cell_type": "code",
   "execution_count": 32,
   "metadata": {},
   "outputs": [],
   "source": [
    "!export MODIN_ENGINE=dask  # Modin will use Dask"
   ]
  },
  {
   "cell_type": "code",
   "execution_count": 43,
   "metadata": {},
   "outputs": [],
   "source": [
    "import pandas as pd"
   ]
  },
  {
   "cell_type": "code",
   "execution_count": 44,
   "metadata": {},
   "outputs": [
    {
     "data": {
      "text/plain": [
       "'0.25.1'"
      ]
     },
     "execution_count": 44,
     "metadata": {},
     "output_type": "execute_result"
    }
   ],
   "source": [
    " pd.__version__"
   ]
  },
  {
   "cell_type": "code",
   "execution_count": 46,
   "metadata": {},
   "outputs": [],
   "source": [
    "data = pd.read_csv('Text_Similarity_Dataset.csv')\n"
   ]
  },
  {
   "cell_type": "code",
   "execution_count": 47,
   "metadata": {},
   "outputs": [
    {
     "data": {
      "text/html": [
       "<div>\n",
       "<style scoped>\n",
       "    .dataframe tbody tr th:only-of-type {\n",
       "        vertical-align: middle;\n",
       "    }\n",
       "\n",
       "    .dataframe tbody tr th {\n",
       "        vertical-align: top;\n",
       "    }\n",
       "\n",
       "    .dataframe thead th {\n",
       "        text-align: right;\n",
       "    }\n",
       "</style>\n",
       "<table border=\"1\" class=\"dataframe\">\n",
       "  <thead>\n",
       "    <tr style=\"text-align: right;\">\n",
       "      <th></th>\n",
       "      <th>Unique_ID</th>\n",
       "      <th>text1</th>\n",
       "      <th>text2</th>\n",
       "    </tr>\n",
       "  </thead>\n",
       "  <tbody>\n",
       "    <tr>\n",
       "      <td>0</td>\n",
       "      <td>0</td>\n",
       "      <td>savvy searchers fail to spot ads internet sear...</td>\n",
       "      <td>newcastle 2-1 bolton kieron dyer smashed home ...</td>\n",
       "    </tr>\n",
       "    <tr>\n",
       "      <td>1</td>\n",
       "      <td>1</td>\n",
       "      <td>millions to miss out on the net by 2025  40% o...</td>\n",
       "      <td>nasdaq planning $100m share sale the owner of ...</td>\n",
       "    </tr>\n",
       "    <tr>\n",
       "      <td>2</td>\n",
       "      <td>2</td>\n",
       "      <td>young debut cut short by ginepri fifteen-year-...</td>\n",
       "      <td>ruddock backs yapp s credentials wales coach m...</td>\n",
       "    </tr>\n",
       "    <tr>\n",
       "      <td>3</td>\n",
       "      <td>3</td>\n",
       "      <td>diageo to buy us wine firm diageo  the world s...</td>\n",
       "      <td>mci shares climb on takeover bid shares in us ...</td>\n",
       "    </tr>\n",
       "    <tr>\n",
       "      <td>4</td>\n",
       "      <td>4</td>\n",
       "      <td>be careful how you code a new european directi...</td>\n",
       "      <td>media gadgets get moving pocket-sized devices ...</td>\n",
       "    </tr>\n",
       "  </tbody>\n",
       "</table>\n",
       "</div>"
      ],
      "text/plain": [
       "   Unique_ID                                              text1  \\\n",
       "0          0  savvy searchers fail to spot ads internet sear...   \n",
       "1          1  millions to miss out on the net by 2025  40% o...   \n",
       "2          2  young debut cut short by ginepri fifteen-year-...   \n",
       "3          3  diageo to buy us wine firm diageo  the world s...   \n",
       "4          4  be careful how you code a new european directi...   \n",
       "\n",
       "                                               text2  \n",
       "0  newcastle 2-1 bolton kieron dyer smashed home ...  \n",
       "1  nasdaq planning $100m share sale the owner of ...  \n",
       "2  ruddock backs yapp s credentials wales coach m...  \n",
       "3  mci shares climb on takeover bid shares in us ...  \n",
       "4  media gadgets get moving pocket-sized devices ...  "
      ]
     },
     "execution_count": 47,
     "metadata": {},
     "output_type": "execute_result"
    }
   ],
   "source": [
    "\n",
    "data.head()"
   ]
  },
  {
   "cell_type": "markdown",
   "metadata": {},
   "source": [
    "I wanted to do TF-IDF with synonyms"
   ]
  },
  {
   "cell_type": "markdown",
   "metadata": {},
   "source": [
    "word embedding / encoding - Transfer learning"
   ]
  },
  {
   "cell_type": "markdown",
   "metadata": {},
   "source": [
    "other approaches - Doc2Vec, Universal Sentence Encoder, transformers (https://huggingface.co/transformers/v2.1.1/)"
   ]
  },
  {
   "cell_type": "markdown",
   "metadata": {},
   "source": [
    "cosine-similiarity, or manhatten / euclidean distance to find sentence embeddings that are closest = that are the most similar."
   ]
  },
  {
   "cell_type": "markdown",
   "metadata": {},
   "source": [
    "other good recent approaches ALBERT- https://arxiv.org/pdf/1909.11942v3.pdf"
   ]
  },
  {
   "cell_type": "code",
   "execution_count": null,
   "metadata": {},
   "outputs": [],
   "source": [
    "data.text1[2]"
   ]
  },
  {
   "cell_type": "markdown",
   "metadata": {},
   "source": [
    "# Doc2Vec"
   ]
  },
  {
   "cell_type": "markdown",
   "metadata": {},
   "source": [
    "We have to convert the text1 and text2 to some intermediate representation through some encoding then find the similarity between the encoded vectors"
   ]
  },
  {
   "cell_type": "markdown",
   "metadata": {},
   "source": [
    "The approach I have used illustrated in the below image. Image is taken from Andrew Ng's course on Sequence Models"
   ]
  },
  {
   "cell_type": "markdown",
   "metadata": {},
   "source": [
    "![hi](emb.jpeg \"Encoding\")"
   ]
  },
  {
   "cell_type": "markdown",
   "metadata": {},
   "source": [
    "The dataset looks like news articles (just by looking at the beginnig 3 words), so I am going to use [AP-NEWS Pre-Trained model](https://ibm.ent.box.com/s/9ebs3c759qqo1d8i7ed323i6shv2js7e) (a collection of Associated PressEnglish news articles from 2009 to 2015) from [An Empirical Evaluation of doc2vec with Practical Insights into Document Embedding Generation](https://arxiv.org/pdf/1607.05368.pdf)"
   ]
  },
  {
   "cell_type": "markdown",
   "metadata": {},
   "source": [
    "Other pre trained corpus like **GoogleNews-vectors-negative** can also be used"
   ]
  },
  {
   "cell_type": "code",
   "execution_count": 3,
   "metadata": {},
   "outputs": [],
   "source": [
    "#python example to infer document vectors from trained doc2vec model\n",
    "import gensim.models as g\n",
    "import codecs\n",
    "import numpy as np"
   ]
  },
  {
   "cell_type": "code",
   "execution_count": 5,
   "metadata": {},
   "outputs": [],
   "source": [
    "#parameters\n",
    "model=\"apnews_dbow/doc2vec.bin\""
   ]
  },
  {
   "cell_type": "code",
   "execution_count": 6,
   "metadata": {},
   "outputs": [],
   "source": [
    "#inference hyper-parameters\n",
    "start_alpha=0.01\n",
    "infer_epoch=1000"
   ]
  },
  {
   "cell_type": "code",
   "execution_count": 6,
   "metadata": {},
   "outputs": [],
   "source": [
    "#load model\n",
    "m = g.Doc2Vec.load(model)"
   ]
  },
  {
   "cell_type": "markdown",
   "metadata": {},
   "source": [
    "I am going to keeping stopwords and punctuation"
   ]
  },
  {
   "cell_type": "code",
   "execution_count": 8,
   "metadata": {},
   "outputs": [],
   "source": [
    "test_docs_1 = [x.strip().split() for x in data.text1]"
   ]
  },
  {
   "cell_type": "code",
   "execution_count": 9,
   "metadata": {},
   "outputs": [],
   "source": [
    "test_docs_2 = [x.strip().split() for x in data.text2]"
   ]
  },
  {
   "cell_type": "code",
   "execution_count": 10,
   "metadata": {},
   "outputs": [],
   "source": [
    "%load_ext Cython"
   ]
  },
  {
   "cell_type": "code",
   "execution_count": 11,
   "metadata": {},
   "outputs": [],
   "source": [
    "%load_ext cython"
   ]
  },
  {
   "cell_type": "markdown",
   "metadata": {},
   "source": [
    "The cell below takes time to run, I have saved the output in the file **'text1_vec.npy'**, it can be loaded directly"
   ]
  },
  {
   "cell_type": "markdown",
   "metadata": {},
   "source": [
    "CPU times: user 28min 22s, sys: 2.93 s, total: 28min 25s <br />\n",
    "Wall time: 28min 26s"
   ]
  },
  {
   "cell_type": "code",
   "execution_count": 2,
   "metadata": {},
   "outputs": [],
   "source": [
    "from multiprocessing import Pool"
   ]
  },
  {
   "cell_type": "code",
   "execution_count": 24,
   "metadata": {},
   "outputs": [],
   "source": [
    "cores = 4  # number of cores available"
   ]
  },
  {
   "cell_type": "code",
   "execution_count": 8,
   "metadata": {
    "collapsed": true,
    "jupyter": {
     "outputs_hidden": true
    }
   },
   "outputs": [
    {
     "data": {
      "text/plain": [
       "\u001b[0;31mSignature:\u001b[0m\n",
       "\u001b[0mm\u001b[0m\u001b[0;34m.\u001b[0m\u001b[0minfer_vector\u001b[0m\u001b[0;34m(\u001b[0m\u001b[0;34m\u001b[0m\n",
       "\u001b[0;34m\u001b[0m    \u001b[0mdoc_words\u001b[0m\u001b[0;34m,\u001b[0m\u001b[0;34m\u001b[0m\n",
       "\u001b[0;34m\u001b[0m    \u001b[0malpha\u001b[0m\u001b[0;34m=\u001b[0m\u001b[0;32mNone\u001b[0m\u001b[0;34m,\u001b[0m\u001b[0;34m\u001b[0m\n",
       "\u001b[0;34m\u001b[0m    \u001b[0mmin_alpha\u001b[0m\u001b[0;34m=\u001b[0m\u001b[0;32mNone\u001b[0m\u001b[0;34m,\u001b[0m\u001b[0;34m\u001b[0m\n",
       "\u001b[0;34m\u001b[0m    \u001b[0mepochs\u001b[0m\u001b[0;34m=\u001b[0m\u001b[0;32mNone\u001b[0m\u001b[0;34m,\u001b[0m\u001b[0;34m\u001b[0m\n",
       "\u001b[0;34m\u001b[0m    \u001b[0msteps\u001b[0m\u001b[0;34m=\u001b[0m\u001b[0;32mNone\u001b[0m\u001b[0;34m,\u001b[0m\u001b[0;34m\u001b[0m\n",
       "\u001b[0;34m\u001b[0m\u001b[0;34m)\u001b[0m\u001b[0;34m\u001b[0m\u001b[0;34m\u001b[0m\u001b[0m\n",
       "\u001b[0;31mDocstring:\u001b[0m\n",
       "Infer a vector for given post-bulk training document.\n",
       "\n",
       "Notes\n",
       "-----\n",
       "Subsequent calls to this function may infer different representations for the same document.\n",
       "For a more stable representation, increase the number of steps to assert a stricket convergence.\n",
       "\n",
       "Parameters\n",
       "----------\n",
       "doc_words : list of str\n",
       "    A document for which the vector representation will be inferred.\n",
       "alpha : float, optional\n",
       "    The initial learning rate. If unspecified, value from model initialization will be reused.\n",
       "min_alpha : float, optional\n",
       "    Learning rate will linearly drop to `min_alpha` over all inference epochs. If unspecified,\n",
       "    value from model initialization will be reused.\n",
       "epochs : int, optional\n",
       "    Number of times to train the new document. Larger values take more time, but may improve\n",
       "    quality and run-to-run stability of inferred vectors. If unspecified, the `epochs` value\n",
       "    from model initialization will be reused.\n",
       "steps : int, optional, deprecated\n",
       "    Previous name for `epochs`, still available for now for backward compatibility: if\n",
       "    `epochs` is unspecified but `steps` is, the `steps` value will be used.\n",
       "\n",
       "Returns\n",
       "-------\n",
       "np.ndarray\n",
       "    The inferred paragraph vector for the new document.\n",
       "\u001b[0;31mFile:\u001b[0m      ~/anaconda3/lib/python3.7/site-packages/gensim/models/doc2vec.py\n",
       "\u001b[0;31mType:\u001b[0m      method\n"
      ]
     },
     "metadata": {},
     "output_type": "display_data"
    }
   ],
   "source": [
    "m.infer_vector?"
   ]
  },
  {
   "cell_type": "code",
   "execution_count": 1,
   "metadata": {},
   "outputs": [
    {
     "ename": "NameError",
     "evalue": "name 'Pool' is not defined",
     "output_type": "error",
     "traceback": [
      "\u001b[0;31m---------------------------------------------------------------------------\u001b[0m",
      "\u001b[0;31mNameError\u001b[0m                                 Traceback (most recent call last)",
      "\u001b[0;32m<timed exec>\u001b[0m in \u001b[0;36m<module>\u001b[0;34m\u001b[0m\n",
      "\u001b[0;31mNameError\u001b[0m: name 'Pool' is not defined"
     ]
    }
   ],
   "source": [
    "%%time\n",
    "with Pool(cores) as p:\n",
    "    text1_rep = p.map(m.infer_vector, test_docs_1)"
   ]
  },
  {
   "cell_type": "code",
   "execution_count": 12,
   "metadata": {},
   "outputs": [],
   "source": [
    "# %%time\n",
    "# start_alpha=0.01\n",
    "# infer_epoch=1000\n",
    "# text1_rep = [m.infer_vector(d, alpha=start_alpha, steps=infer_epoch) for d in test_docs_1]"
   ]
  },
  {
   "cell_type": "code",
   "execution_count": 41,
   "metadata": {},
   "outputs": [],
   "source": [
    "text1_rep_np = np.array(text1_rep)"
   ]
  },
  {
   "cell_type": "code",
   "execution_count": 44,
   "metadata": {},
   "outputs": [],
   "source": [
    "np.save('text1_vec',text1_rep_np)"
   ]
  },
  {
   "cell_type": "code",
   "execution_count": 48,
   "metadata": {},
   "outputs": [],
   "source": [
    "text1_vec_load = np.load('text1_vec.npy')"
   ]
  },
  {
   "cell_type": "code",
   "execution_count": null,
   "metadata": {},
   "outputs": [],
   "source": [
    "np.frombuffer(test)                                  # 459ns !!!"
   ]
  },
  {
   "cell_type": "markdown",
   "metadata": {},
   "source": [
    "The cell below takes time to run, I have saved the output in the file **'text2_vec.npy'**, it can be loaded directly"
   ]
  },
  {
   "cell_type": "markdown",
   "metadata": {},
   "source": [
    "CPU times: user 27min 44s, sys: 1.43 s, total: 27min 46s </br>\n",
    "Wall time: 27min 46s"
   ]
  },
  {
   "cell_type": "code",
   "execution_count": 40,
   "metadata": {},
   "outputs": [
    {
     "name": "stdout",
     "output_type": "stream",
     "text": [
      "CPU times: user 23.3 s, sys: 13.2 s, total: 36.5 s\n",
      "Wall time: 56.3 s\n"
     ]
    }
   ],
   "source": [
    "%%time\n",
    "with Pool(cores) as p:\n",
    "    text2_rep = p.map(m.infer_vector, test_docs_2)"
   ]
  },
  {
   "cell_type": "code",
   "execution_count": null,
   "metadata": {},
   "outputs": [],
   "source": [
    "# %%time\n",
    "# text2_rep = [m.infer_vector(d, alpha=start_alpha, steps=infer_epoch) for d in test_docs_2]"
   ]
  },
  {
   "cell_type": "code",
   "execution_count": 45,
   "metadata": {},
   "outputs": [],
   "source": [
    "text2_rep_np = np.array(text2_rep)"
   ]
  },
  {
   "cell_type": "code",
   "execution_count": 46,
   "metadata": {},
   "outputs": [],
   "source": [
    "np.save('text2_vec',text2_rep_np)"
   ]
  },
  {
   "cell_type": "code",
   "execution_count": 49,
   "metadata": {},
   "outputs": [],
   "source": [
    "text2_vec_load = np.load('text2_vec.npy')"
   ]
  },
  {
   "cell_type": "code",
   "execution_count": 50,
   "metadata": {},
   "outputs": [],
   "source": [
    "from sklearn.metrics.pairwise import cosine_similarity"
   ]
  },
  {
   "cell_type": "code",
   "execution_count": 50,
   "metadata": {},
   "outputs": [
    {
     "data": {
      "text/plain": [
       "(4023, 300)"
      ]
     },
     "execution_count": 50,
     "metadata": {},
     "output_type": "execute_result"
    }
   ],
   "source": [
    "text1_vec_load.shape"
   ]
  },
  {
   "cell_type": "code",
   "execution_count": 51,
   "metadata": {},
   "outputs": [
    {
     "name": "stdout",
     "output_type": "stream",
     "text": [
      "CPU times: user 476 ms, sys: 35.5 ms, total: 512 ms\n",
      "Wall time: 876 ms\n"
     ]
    }
   ],
   "source": [
    "%%time\n",
    "cos_sim = cosine_similarity(text1_vec_load, text2_vec_load)"
   ]
  },
  {
   "cell_type": "code",
   "execution_count": 9,
   "metadata": {},
   "outputs": [],
   "source": [
    "from multiprocessing import Process"
   ]
  },
  {
   "cell_type": "code",
   "execution_count": 56,
   "metadata": {},
   "outputs": [],
   "source": [
    "%%time\n",
    "if __name__ == '__main__':\n",
    "    p = Process(target=cosine_similarity, args=(text1_vec_load, text2_vec_load))\n",
    "    p.start()\n",
    "    p.join()"
   ]
  },
  {
   "cell_type": "code",
   "execution_count": 52,
   "metadata": {},
   "outputs": [],
   "source": [
    "cosine_sim = []"
   ]
  },
  {
   "cell_type": "code",
   "execution_count": 53,
   "metadata": {},
   "outputs": [
    {
     "name": "stdout",
     "output_type": "stream",
     "text": [
      "CPU times: user 2.84 ms, sys: 0 ns, total: 2.84 ms\n",
      "Wall time: 2.85 ms\n"
     ]
    }
   ],
   "source": [
    "%%time\n",
    "for i in range(len(data)):\n",
    "    cosine_sim.append(cos_sim[i][i])"
   ]
  },
  {
   "cell_type": "code",
   "execution_count": 54,
   "metadata": {},
   "outputs": [],
   "source": [
    "cosine_sim = np.array(cosine_sim)"
   ]
  },
  {
   "cell_type": "code",
   "execution_count": 82,
   "metadata": {},
   "outputs": [],
   "source": [
    "maxx = np.argmax([x for x in cosine_sim if x != max(cosine_sim)])"
   ]
  },
  {
   "cell_type": "code",
   "execution_count": 88,
   "metadata": {},
   "outputs": [],
   "source": [
    "minn = min(cosine_sim)"
   ]
  },
  {
   "cell_type": "code",
   "execution_count": 89,
   "metadata": {},
   "outputs": [
    {
     "data": {
      "text/plain": [
       "-0.060139775"
      ]
     },
     "execution_count": 89,
     "metadata": {},
     "output_type": "execute_result"
    }
   ],
   "source": [
    "minn"
   ]
  },
  {
   "cell_type": "code",
   "execution_count": 78,
   "metadata": {},
   "outputs": [],
   "source": [
    "temp_data = data"
   ]
  },
  {
   "cell_type": "code",
   "execution_count": 83,
   "metadata": {},
   "outputs": [
    {
     "data": {
      "text/plain": [
       "2284"
      ]
     },
     "execution_count": 83,
     "metadata": {},
     "output_type": "execute_result"
    }
   ],
   "source": [
    "maxx"
   ]
  },
  {
   "cell_type": "code",
   "execution_count": 68,
   "metadata": {},
   "outputs": [
    {
     "data": {
      "text/plain": [
       "3403"
      ]
     },
     "execution_count": 68,
     "metadata": {},
     "output_type": "execute_result"
    }
   ],
   "source": []
  },
  {
   "cell_type": "code",
   "execution_count": 84,
   "metadata": {},
   "outputs": [
    {
     "data": {
      "text/plain": [
       "'dvd copy protection strengthened dvds will be harder to copy thanks to new anti-piracy measures devised by copy protection firm macrovision.  the pirated dvd market is enormous because current copy protection was hacked more than five years ago. macrovision says its new ripguard technology will thwart most  but not all  of the current dvd ripping (copying) programs used to pirate dvds.  ripguard is designed to... reduce dvd ripping and the resulting supply of illegal peer to peer   said the firm. macrovision said the new technology will work in  nearly all  current dvd players when applied to the discs  but it did not specify how many machines could have a problem with ripguard. some bbc news website users have expressed concerns that the new technology will mean that dvds will not work on pcs running the operating system linux. the new technology will be welcomed by hollywood film studios which are increasingly relying on revenue from dvd sales.  the film industry has stepped up efforts to fight dvd piracy in the last 12 months  taking legal action against websites which offer pirated copies of dvd movies for download.   ultimately  we see ripguard dvd... evolving beyond anti-piracy  and towards enablement of legitimate online transactions  interoperability in tomorrow s digital home  and the upcoming high-definition formats   said steve weinstein  executive vice president and general manager of macrovision s entertainment technologies group. macrovision said ripguard would also prevent against  rent  rip and return  - where people would rent a dvd  copy it and then return the original. ripguard is expected to be rolled out on dvds from the middle of 2005  the company said. the new system works specifically to block most ripping programs - if used  those programs will now most likely crash  the company said. macrovision has said that rip guard can be updated if hackers find a way around the new anti-copying measures.'"
      ]
     },
     "execution_count": 84,
     "metadata": {},
     "output_type": "execute_result"
    }
   ],
   "source": [
    "data.text1[maxx]"
   ]
  },
  {
   "cell_type": "code",
   "execution_count": 85,
   "metadata": {},
   "outputs": [
    {
     "data": {
      "text/plain": [
       "'dvd copy protection strengthened dvds will be harder to copy thanks to new anti-piracy measures devised by copy protection firm macrovision.  the pirated dvd market is enormous because current copy protection was hacked more than five years ago. macrovision says its new ripguard technology will thwart most  but not all  of the current dvd ripping (copying) programs used to pirate dvds.  ripguard is designed to... reduce dvd ripping and the resulting supply of illegal peer to peer   said the firm. macrovision said the new technology will work in  nearly all  current dvd players when applied to the discs  but it did not specify how many machines could have a problem with ripguard. the new technology will be welcomed by hollywood film studios which are increasingly relying on revenue from dvd sales.  the film industry has stepped up efforts to fight dvd piracy in the last 12 months  taking legal action against websites which offer pirated copies of dvd movies for download.   ultimately  we see ripguard dvd... evolving beyond anti-piracy  and towards enablement of legitimate online transactions  interoperability in tomorrow s digital home  and the upcoming high-definition formats   said steve weinstein  executive vice president and general manager of macrovision s entertainment technologies group. macrovision said ripguard was designed to plug the  digital hole  that was created by so-called decss ripper software. it circumvents content scrambling system measures placed on dvds and let people make perfect digital copies of copyrighted dvds in minutes. those copies could then be burned onto a blank dvd or uploaded for exchange to a peer-to-peer network. macrovision said ripguard would also prevent against  rent  rip and return  - where people would rent a dvd  copy it and then return the original. ripguard is expected to be rolled out on dvds from the middle of 2005  the company said. the new system works specifically to block most ripping programs - if used  those programs will now most likely crash  the company said. macrovision has said that rip guard can be updated if hackers find a way around the new anti-copying measures.'"
      ]
     },
     "execution_count": 85,
     "metadata": {},
     "output_type": "execute_result"
    }
   ],
   "source": [
    "data.text2[maxx]"
   ]
  },
  {
   "cell_type": "markdown",
   "metadata": {},
   "source": [
    "## Plotting the cosine_sim"
   ]
  },
  {
   "cell_type": "code",
   "execution_count": null,
   "metadata": {},
   "outputs": [],
   "source": []
  },
  {
   "cell_type": "code",
   "execution_count": 59,
   "metadata": {},
   "outputs": [],
   "source": [
    "%matplotlib inline\n",
    "import matplotlib.pyplot as plt"
   ]
  },
  {
   "cell_type": "code",
   "execution_count": 60,
   "metadata": {},
   "outputs": [
    {
     "data": {
      "text/plain": [
       "pandas.core.series.Series"
      ]
     },
     "execution_count": 60,
     "metadata": {},
     "output_type": "execute_result"
    }
   ],
   "source": [
    "type(data.Unique_ID)"
   ]
  },
  {
   "cell_type": "code",
   "execution_count": 62,
   "metadata": {},
   "outputs": [
    {
     "data": {
      "text/plain": [
       "numpy.ndarray"
      ]
     },
     "execution_count": 62,
     "metadata": {},
     "output_type": "execute_result"
    }
   ],
   "source": [
    "type(np.array(data.Unique_ID))"
   ]
  },
  {
   "cell_type": "code",
   "execution_count": 92,
   "metadata": {},
   "outputs": [],
   "source": [
    "import seaborn as sns"
   ]
  },
  {
   "cell_type": "code",
   "execution_count": 106,
   "metadata": {},
   "outputs": [
    {
     "data": {
      "image/png": "[encoded data removed]",
      "text/plain": [
       "<Figure size 432x288 with 1 Axes>"
      ]
     },
     "metadata": {
      "needs_background": "light"
     },
     "output_type": "display_data"
    }
   ],
   "source": [
    "x = np.array(data.Unique_ID)\n",
    "y = cosine_sim\n",
    "plt.scatter(x,y)\n",
    "plt.title(\"before tuning\")\n",
    "plt.xlabel(\"Unique_ID\")\n",
    "plt.ylabel(\"cosine_similarity\")\n",
    "plt.show()"
   ]
  },
  {
   "cell_type": "markdown",
   "metadata": {},
   "source": [
    "# Transfer Learning - Trainig - fine tuning the the apnews_dbow model"
   ]
  },
  {
   "cell_type": "code",
   "execution_count": null,
   "metadata": {},
   "outputs": [],
   "source": []
  },
  {
   "cell_type": "code",
   "execution_count": 39,
   "metadata": {},
   "outputs": [],
   "source": [
    "import logging\n",
    "\n",
    "#doc2vec parameters\n",
    "vector_size = 300\n",
    "window_size = 15\n",
    "min_count = 1\n",
    "sampling_threshold = 1e-5\n",
    "negative_size = 5\n",
    "train_epoch = 100\n",
    "dm = 0 #0 = dbow; 1 = dmpv\n",
    "worker_count = -1 #number of parallel processes"
   ]
  },
  {
   "cell_type": "code",
   "execution_count": 40,
   "metadata": {},
   "outputs": [],
   "source": [
    "\n",
    "#pretrained word embeddings\n",
    "pretrained_emb = 'doc2vec.bin'\n",
    "# pretrained_emb = \"toy_data/pretrained_word_embeddings.txt\" #None if use without pretrained embeddings\n",
    "\n",
    "#input corpus\n",
    "train_corpus = \"my_train_docs.txt\"\n",
    "\n",
    "#output model\n",
    "saved_path = \"my_model.bin\""
   ]
  },
  {
   "cell_type": "code",
   "execution_count": 41,
   "metadata": {},
   "outputs": [],
   "source": [
    "#enable logging\n",
    "logging.basicConfig(format='%(asctime)s : %(levelname)s : %(message)s', level=logging.INFO)\n"
   ]
  },
  {
   "cell_type": "code",
   "execution_count": 42,
   "metadata": {},
   "outputs": [],
   "source": [
    "text1 = ''\n",
    "i=0\n",
    "for x in data.text1:\n",
    "    i+= 1\n",
    "    text1 += x\n",
    "    text1 += '\\n'"
   ]
  },
  {
   "cell_type": "code",
   "execution_count": null,
   "metadata": {},
   "outputs": [],
   "source": [
    "text2 = ''\n",
    "i=0\n",
    "for x in data.text2:\n",
    "    i+= 1\n",
    "    text2 += x\n",
    "    text2 += '\\n'"
   ]
  },
  {
   "cell_type": "code",
   "execution_count": null,
   "metadata": {},
   "outputs": [],
   "source": [
    "text = text1 + text2"
   ]
  },
  {
   "cell_type": "code",
   "execution_count": null,
   "metadata": {},
   "outputs": [],
   "source": [
    "with open(train_corpus, mode = 'w') as f:\n",
    "    f.write(text)"
   ]
  },
  {
   "cell_type": "code",
   "execution_count": 43,
   "metadata": {},
   "outputs": [
    {
     "name": "stdout",
     "output_type": "stream",
     "text": [
      "CPU times: user 12 µs, sys: 0 ns, total: 12 µs\n",
      "Wall time: 16.9 µs\n"
     ]
    }
   ],
   "source": [
    "%%time\n",
    "#train doc2vec model\n",
    "docs = g.doc2vec.TaggedLineDocument(train_corpus)"
   ]
  },
  {
   "cell_type": "code",
   "execution_count": 44,
   "metadata": {
    "collapsed": true,
    "jupyter": {
     "outputs_hidden": true
    }
   },
   "outputs": [
    {
     "name": "stderr",
     "output_type": "stream",
     "text": [
      "2019-11-25 19:06:47,379 : INFO : collecting all words and their counts\n",
      "2019-11-25 19:06:47,381 : INFO : PROGRESS: at example #0, processed 0 words (0/s), 0 word types, 0 tags\n",
      "2019-11-25 19:06:48,251 : INFO : collected 43771 word types and 8046 unique tags from a corpus of 8046 examples and 3146284 words\n",
      "2019-11-25 19:06:48,252 : INFO : Loading a fresh vocabulary\n",
      "2019-11-25 19:06:48,483 : INFO : effective_min_count=1 retains 43771 unique words (100% of original 43771, drops 0)\n",
      "2019-11-25 19:06:48,483 : INFO : effective_min_count=1 leaves 3146284 word corpus (100% of original 3146284, drops 0)\n",
      "2019-11-25 19:06:48,637 : INFO : deleting the raw counts dictionary of 43771 items\n",
      "2019-11-25 19:06:48,639 : INFO : sample=1e-05 downsamples 3853 most-common words\n",
      "2019-11-25 19:06:48,639 : INFO : downsampling leaves estimated 1016766 word corpus (32.3% of prior 3146284)\n",
      "2019-11-25 19:06:48,836 : INFO : estimated required memory for 43771 words and 300 dimensions: 136591100 bytes\n",
      "2019-11-25 19:06:48,837 : INFO : resetting layer weights\n",
      "2019-11-25 19:06:59,675 : INFO : training model with -1 workers on 43772 vocabulary and 300 features, using sg=1 hs=0 sample=1e-05 negative=5 window=15\n",
      "2019-11-25 19:06:59,676 : INFO : EPOCH - 1 : training on 0 raw words (0 effective words) took 0.0s, 0 effective words/s\n",
      "2019-11-25 19:06:59,678 : WARNING : EPOCH - 1 : supplied example count (0) did not equal expected count (8046)\n",
      "2019-11-25 19:06:59,680 : WARNING : EPOCH - 1 : supplied raw word count (0) did not equal expected count (3146284)\n",
      "2019-11-25 19:06:59,693 : INFO : EPOCH - 2 : training on 0 raw words (0 effective words) took 0.0s, 0 effective words/s\n",
      "2019-11-25 19:06:59,696 : WARNING : EPOCH - 2 : supplied example count (0) did not equal expected count (8046)\n",
      "2019-11-25 19:06:59,698 : WARNING : EPOCH - 2 : supplied raw word count (0) did not equal expected count (3146284)\n",
      "2019-11-25 19:06:59,703 : INFO : EPOCH - 3 : training on 0 raw words (0 effective words) took 0.0s, 0 effective words/s\n",
      "2019-11-25 19:06:59,705 : WARNING : EPOCH - 3 : supplied example count (0) did not equal expected count (8046)\n",
      "2019-11-25 19:06:59,715 : WARNING : EPOCH - 3 : supplied raw word count (0) did not equal expected count (3146284)\n",
      "2019-11-25 19:06:59,726 : INFO : EPOCH - 4 : training on 0 raw words (0 effective words) took 0.0s, 0 effective words/s\n",
      "2019-11-25 19:06:59,769 : WARNING : EPOCH - 4 : supplied example count (0) did not equal expected count (8046)\n",
      "2019-11-25 19:06:59,801 : WARNING : EPOCH - 4 : supplied raw word count (0) did not equal expected count (3146284)\n",
      "2019-11-25 19:06:59,833 : INFO : EPOCH - 5 : training on 0 raw words (0 effective words) took 0.0s, 0 effective words/s\n",
      "2019-11-25 19:06:59,840 : WARNING : EPOCH - 5 : supplied example count (0) did not equal expected count (8046)\n",
      "2019-11-25 19:06:59,847 : WARNING : EPOCH - 5 : supplied raw word count (0) did not equal expected count (3146284)\n",
      "2019-11-25 19:06:59,905 : INFO : EPOCH - 6 : training on 0 raw words (0 effective words) took 0.0s, 0 effective words/s\n",
      "2019-11-25 19:06:59,914 : WARNING : EPOCH - 6 : supplied example count (0) did not equal expected count (8046)\n",
      "2019-11-25 19:06:59,921 : WARNING : EPOCH - 6 : supplied raw word count (0) did not equal expected count (3146284)\n",
      "2019-11-25 19:06:59,947 : INFO : EPOCH - 7 : training on 0 raw words (0 effective words) took 0.0s, 0 effective words/s\n",
      "2019-11-25 19:07:00,009 : WARNING : EPOCH - 7 : supplied example count (0) did not equal expected count (8046)\n",
      "2019-11-25 19:07:00,024 : WARNING : EPOCH - 7 : supplied raw word count (0) did not equal expected count (3146284)\n",
      "2019-11-25 19:07:00,055 : INFO : EPOCH - 8 : training on 0 raw words (0 effective words) took 0.0s, 0 effective words/s\n",
      "2019-11-25 19:07:00,085 : WARNING : EPOCH - 8 : supplied example count (0) did not equal expected count (8046)\n",
      "2019-11-25 19:07:00,099 : WARNING : EPOCH - 8 : supplied raw word count (0) did not equal expected count (3146284)\n",
      "2019-11-25 19:07:00,138 : INFO : EPOCH - 9 : training on 0 raw words (0 effective words) took 0.0s, 0 effective words/s\n",
      "2019-11-25 19:07:00,196 : WARNING : EPOCH - 9 : supplied example count (0) did not equal expected count (8046)\n",
      "2019-11-25 19:07:00,247 : WARNING : EPOCH - 9 : supplied raw word count (0) did not equal expected count (3146284)\n",
      "2019-11-25 19:07:00,281 : INFO : EPOCH - 10 : training on 0 raw words (0 effective words) took 0.0s, 0 effective words/s\n",
      "2019-11-25 19:07:00,321 : WARNING : EPOCH - 10 : supplied example count (0) did not equal expected count (8046)\n",
      "2019-11-25 19:07:00,338 : WARNING : EPOCH - 10 : supplied raw word count (0) did not equal expected count (3146284)\n",
      "2019-11-25 19:07:00,401 : INFO : EPOCH - 11 : training on 0 raw words (0 effective words) took 0.0s, 0 effective words/s\n",
      "2019-11-25 19:07:00,434 : WARNING : EPOCH - 11 : supplied example count (0) did not equal expected count (8046)\n",
      "2019-11-25 19:07:00,473 : WARNING : EPOCH - 11 : supplied raw word count (0) did not equal expected count (3146284)\n",
      "2019-11-25 19:07:00,537 : INFO : EPOCH - 12 : training on 0 raw words (0 effective words) took 0.0s, 0 effective words/s\n",
      "2019-11-25 19:07:00,617 : WARNING : EPOCH - 12 : supplied example count (0) did not equal expected count (8046)\n",
      "2019-11-25 19:07:00,647 : WARNING : EPOCH - 12 : supplied raw word count (0) did not equal expected count (3146284)\n",
      "2019-11-25 19:07:00,769 : INFO : EPOCH - 13 : training on 0 raw words (0 effective words) took 0.0s, 0 effective words/s\n",
      "2019-11-25 19:07:00,821 : WARNING : EPOCH - 13 : supplied example count (0) did not equal expected count (8046)\n",
      "2019-11-25 19:07:00,866 : WARNING : EPOCH - 13 : supplied raw word count (0) did not equal expected count (3146284)\n",
      "2019-11-25 19:07:00,921 : INFO : EPOCH - 14 : training on 0 raw words (0 effective words) took 0.0s, 0 effective words/s\n",
      "2019-11-25 19:07:01,056 : WARNING : EPOCH - 14 : supplied example count (0) did not equal expected count (8046)\n",
      "2019-11-25 19:07:01,125 : WARNING : EPOCH - 14 : supplied raw word count (0) did not equal expected count (3146284)\n",
      "2019-11-25 19:07:01,343 : INFO : EPOCH - 15 : training on 0 raw words (0 effective words) took 0.0s, 0 effective words/s\n",
      "2019-11-25 19:07:01,658 : WARNING : EPOCH - 15 : supplied example count (0) did not equal expected count (8046)\n",
      "2019-11-25 19:07:01,717 : WARNING : EPOCH - 15 : supplied raw word count (0) did not equal expected count (3146284)\n",
      "2019-11-25 19:07:01,970 : INFO : EPOCH - 16 : training on 0 raw words (0 effective words) took 0.0s, 0 effective words/s\n",
      "2019-11-25 19:07:02,119 : WARNING : EPOCH - 16 : supplied example count (0) did not equal expected count (8046)\n",
      "2019-11-25 19:07:02,272 : WARNING : EPOCH - 16 : supplied raw word count (0) did not equal expected count (3146284)\n",
      "2019-11-25 19:07:02,661 : INFO : EPOCH - 17 : training on 0 raw words (0 effective words) took 0.0s, 0 effective words/s\n",
      "2019-11-25 19:07:02,785 : WARNING : EPOCH - 17 : supplied example count (0) did not equal expected count (8046)\n",
      "2019-11-25 19:07:03,461 : WARNING : EPOCH - 17 : supplied raw word count (0) did not equal expected count (3146284)\n",
      "2019-11-25 19:07:03,670 : INFO : EPOCH - 18 : training on 0 raw words (0 effective words) took 0.0s, 0 effective words/s\n",
      "2019-11-25 19:07:03,830 : WARNING : EPOCH - 18 : supplied example count (0) did not equal expected count (8046)\n",
      "2019-11-25 19:07:03,832 : WARNING : EPOCH - 18 : supplied raw word count (0) did not equal expected count (3146284)\n",
      "2019-11-25 19:07:03,908 : INFO : EPOCH - 19 : training on 0 raw words (0 effective words) took 0.0s, 0 effective words/s\n",
      "2019-11-25 19:07:04,090 : WARNING : EPOCH - 19 : supplied example count (0) did not equal expected count (8046)\n",
      "2019-11-25 19:07:04,312 : WARNING : EPOCH - 19 : supplied raw word count (0) did not equal expected count (3146284)\n",
      "2019-11-25 19:07:04,738 : INFO : EPOCH - 20 : training on 0 raw words (0 effective words) took 0.0s, 0 effective words/s\n",
      "2019-11-25 19:07:04,891 : WARNING : EPOCH - 20 : supplied example count (0) did not equal expected count (8046)\n",
      "2019-11-25 19:07:05,205 : WARNING : EPOCH - 20 : supplied raw word count (0) did not equal expected count (3146284)\n",
      "2019-11-25 19:07:05,485 : INFO : EPOCH - 21 : training on 0 raw words (0 effective words) took 0.0s, 0 effective words/s\n",
      "2019-11-25 19:07:05,674 : WARNING : EPOCH - 21 : supplied example count (0) did not equal expected count (8046)\n",
      "2019-11-25 19:07:06,080 : WARNING : EPOCH - 21 : supplied raw word count (0) did not equal expected count (3146284)\n",
      "2019-11-25 19:07:06,268 : INFO : EPOCH - 22 : training on 0 raw words (0 effective words) took 0.0s, 0 effective words/s\n",
      "2019-11-25 19:07:06,516 : WARNING : EPOCH - 22 : supplied example count (0) did not equal expected count (8046)\n",
      "2019-11-25 19:07:06,887 : WARNING : EPOCH - 22 : supplied raw word count (0) did not equal expected count (3146284)\n",
      "2019-11-25 19:07:07,135 : INFO : EPOCH - 23 : training on 0 raw words (0 effective words) took 0.0s, 0 effective words/s\n",
      "2019-11-25 19:07:07,490 : WARNING : EPOCH - 23 : supplied example count (0) did not equal expected count (8046)\n",
      "2019-11-25 19:07:07,536 : WARNING : EPOCH - 23 : supplied raw word count (0) did not equal expected count (3146284)\n",
      "2019-11-25 19:07:08,499 : INFO : EPOCH - 24 : training on 0 raw words (0 effective words) took 0.0s, 0 effective words/s\n",
      "2019-11-25 19:07:08,792 : WARNING : EPOCH - 24 : supplied example count (0) did not equal expected count (8046)\n",
      "2019-11-25 19:07:08,923 : WARNING : EPOCH - 24 : supplied raw word count (0) did not equal expected count (3146284)\n",
      "2019-11-25 19:07:09,162 : INFO : EPOCH - 25 : training on 0 raw words (0 effective words) took 0.0s, 0 effective words/s\n",
      "2019-11-25 19:07:09,167 : WARNING : EPOCH - 25 : supplied example count (0) did not equal expected count (8046)\n",
      "2019-11-25 19:07:09,324 : WARNING : EPOCH - 25 : supplied raw word count (0) did not equal expected count (3146284)\n",
      "2019-11-25 19:07:09,695 : INFO : EPOCH - 26 : training on 0 raw words (0 effective words) took 0.0s, 0 effective words/s\n",
      "2019-11-25 19:07:09,909 : WARNING : EPOCH - 26 : supplied example count (0) did not equal expected count (8046)\n",
      "2019-11-25 19:07:10,125 : WARNING : EPOCH - 26 : supplied raw word count (0) did not equal expected count (3146284)\n",
      "2019-11-25 19:07:10,296 : INFO : EPOCH - 27 : training on 0 raw words (0 effective words) took 0.0s, 0 effective words/s\n",
      "2019-11-25 19:07:10,425 : WARNING : EPOCH - 27 : supplied example count (0) did not equal expected count (8046)\n",
      "2019-11-25 19:07:10,622 : WARNING : EPOCH - 27 : supplied raw word count (0) did not equal expected count (3146284)\n",
      "2019-11-25 19:07:10,890 : INFO : EPOCH - 28 : training on 0 raw words (0 effective words) took 0.0s, 0 effective words/s\n",
      "2019-11-25 19:07:10,930 : WARNING : EPOCH - 28 : supplied example count (0) did not equal expected count (8046)\n",
      "2019-11-25 19:07:11,062 : WARNING : EPOCH - 28 : supplied raw word count (0) did not equal expected count (3146284)\n",
      "2019-11-25 19:07:11,267 : INFO : EPOCH - 29 : training on 0 raw words (0 effective words) took 0.0s, 0 effective words/s\n",
      "2019-11-25 19:07:11,347 : WARNING : EPOCH - 29 : supplied example count (0) did not equal expected count (8046)\n",
      "2019-11-25 19:07:11,501 : WARNING : EPOCH - 29 : supplied raw word count (0) did not equal expected count (3146284)\n",
      "2019-11-25 19:07:11,670 : INFO : EPOCH - 30 : training on 0 raw words (0 effective words) took 0.0s, 0 effective words/s\n",
      "2019-11-25 19:07:11,923 : WARNING : EPOCH - 30 : supplied example count (0) did not equal expected count (8046)\n",
      "2019-11-25 19:07:12,000 : WARNING : EPOCH - 30 : supplied raw word count (0) did not equal expected count (3146284)\n",
      "2019-11-25 19:07:12,085 : INFO : EPOCH - 31 : training on 0 raw words (0 effective words) took 0.0s, 0 effective words/s\n",
      "2019-11-25 19:07:12,179 : WARNING : EPOCH - 31 : supplied example count (0) did not equal expected count (8046)\n",
      "2019-11-25 19:07:12,461 : WARNING : EPOCH - 31 : supplied raw word count (0) did not equal expected count (3146284)\n",
      "2019-11-25 19:07:12,540 : INFO : EPOCH - 32 : training on 0 raw words (0 effective words) took 0.0s, 0 effective words/s\n",
      "2019-11-25 19:07:12,591 : WARNING : EPOCH - 32 : supplied example count (0) did not equal expected count (8046)\n",
      "2019-11-25 19:07:12,724 : WARNING : EPOCH - 32 : supplied raw word count (0) did not equal expected count (3146284)\n",
      "2019-11-25 19:07:12,930 : INFO : EPOCH - 33 : training on 0 raw words (0 effective words) took 0.0s, 0 effective words/s\n",
      "2019-11-25 19:07:13,621 : WARNING : EPOCH - 33 : supplied example count (0) did not equal expected count (8046)\n",
      "2019-11-25 19:07:13,804 : WARNING : EPOCH - 33 : supplied raw word count (0) did not equal expected count (3146284)\n",
      "2019-11-25 19:07:13,985 : INFO : EPOCH - 34 : training on 0 raw words (0 effective words) took 0.0s, 0 effective words/s\n",
      "2019-11-25 19:07:14,134 : WARNING : EPOCH - 34 : supplied example count (0) did not equal expected count (8046)\n",
      "2019-11-25 19:07:14,314 : WARNING : EPOCH - 34 : supplied raw word count (0) did not equal expected count (3146284)\n",
      "2019-11-25 19:07:14,488 : INFO : EPOCH - 35 : training on 0 raw words (0 effective words) took 0.0s, 0 effective words/s\n",
      "2019-11-25 19:07:14,627 : WARNING : EPOCH - 35 : supplied example count (0) did not equal expected count (8046)\n",
      "2019-11-25 19:07:14,681 : WARNING : EPOCH - 35 : supplied raw word count (0) did not equal expected count (3146284)\n",
      "2019-11-25 19:07:14,738 : INFO : EPOCH - 36 : training on 0 raw words (0 effective words) took 0.0s, 0 effective words/s\n",
      "2019-11-25 19:07:14,907 : WARNING : EPOCH - 36 : supplied example count (0) did not equal expected count (8046)\n",
      "2019-11-25 19:07:14,949 : WARNING : EPOCH - 36 : supplied raw word count (0) did not equal expected count (3146284)\n",
      "2019-11-25 19:07:15,066 : INFO : EPOCH - 37 : training on 0 raw words (0 effective words) took 0.0s, 0 effective words/s\n",
      "2019-11-25 19:07:15,109 : WARNING : EPOCH - 37 : supplied example count (0) did not equal expected count (8046)\n",
      "2019-11-25 19:07:15,139 : WARNING : EPOCH - 37 : supplied raw word count (0) did not equal expected count (3146284)\n",
      "2019-11-25 19:07:15,256 : INFO : EPOCH - 38 : training on 0 raw words (0 effective words) took 0.0s, 0 effective words/s\n",
      "2019-11-25 19:07:15,298 : WARNING : EPOCH - 38 : supplied example count (0) did not equal expected count (8046)\n",
      "2019-11-25 19:07:15,415 : WARNING : EPOCH - 38 : supplied raw word count (0) did not equal expected count (3146284)\n",
      "2019-11-25 19:07:15,862 : INFO : EPOCH - 39 : training on 0 raw words (0 effective words) took 0.0s, 0 effective words/s\n",
      "2019-11-25 19:07:15,938 : WARNING : EPOCH - 39 : supplied example count (0) did not equal expected count (8046)\n",
      "2019-11-25 19:07:16,233 : WARNING : EPOCH - 39 : supplied raw word count (0) did not equal expected count (3146284)\n",
      "2019-11-25 19:07:16,311 : INFO : EPOCH - 40 : training on 0 raw words (0 effective words) took 0.0s, 0 effective words/s\n",
      "2019-11-25 19:07:16,473 : WARNING : EPOCH - 40 : supplied example count (0) did not equal expected count (8046)\n",
      "2019-11-25 19:07:16,500 : WARNING : EPOCH - 40 : supplied raw word count (0) did not equal expected count (3146284)\n",
      "2019-11-25 19:07:16,720 : INFO : EPOCH - 41 : training on 0 raw words (0 effective words) took 0.0s, 0 effective words/s\n",
      "2019-11-25 19:07:16,877 : WARNING : EPOCH - 41 : supplied example count (0) did not equal expected count (8046)\n",
      "2019-11-25 19:07:17,022 : WARNING : EPOCH - 41 : supplied raw word count (0) did not equal expected count (3146284)\n",
      "2019-11-25 19:07:17,108 : INFO : EPOCH - 42 : training on 0 raw words (0 effective words) took 0.0s, 0 effective words/s\n",
      "2019-11-25 19:07:17,224 : WARNING : EPOCH - 42 : supplied example count (0) did not equal expected count (8046)\n",
      "2019-11-25 19:07:17,326 : WARNING : EPOCH - 42 : supplied raw word count (0) did not equal expected count (3146284)\n",
      "2019-11-25 19:07:17,426 : INFO : EPOCH - 43 : training on 0 raw words (0 effective words) took 0.0s, 0 effective words/s\n",
      "2019-11-25 19:07:17,692 : WARNING : EPOCH - 43 : supplied example count (0) did not equal expected count (8046)\n",
      "2019-11-25 19:07:18,589 : WARNING : EPOCH - 43 : supplied raw word count (0) did not equal expected count (3146284)\n",
      "2019-11-25 19:07:18,819 : INFO : EPOCH - 44 : training on 0 raw words (0 effective words) took 0.0s, 0 effective words/s\n",
      "2019-11-25 19:07:19,155 : WARNING : EPOCH - 44 : supplied example count (0) did not equal expected count (8046)\n",
      "2019-11-25 19:07:19,338 : WARNING : EPOCH - 44 : supplied raw word count (0) did not equal expected count (3146284)\n",
      "2019-11-25 19:07:19,472 : INFO : EPOCH - 45 : training on 0 raw words (0 effective words) took 0.0s, 0 effective words/s\n",
      "2019-11-25 19:07:19,567 : WARNING : EPOCH - 45 : supplied example count (0) did not equal expected count (8046)\n",
      "2019-11-25 19:07:19,704 : WARNING : EPOCH - 45 : supplied raw word count (0) did not equal expected count (3146284)\n",
      "2019-11-25 19:07:19,986 : INFO : EPOCH - 46 : training on 0 raw words (0 effective words) took 0.0s, 0 effective words/s\n",
      "2019-11-25 19:07:20,069 : WARNING : EPOCH - 46 : supplied example count (0) did not equal expected count (8046)\n",
      "2019-11-25 19:07:20,198 : WARNING : EPOCH - 46 : supplied raw word count (0) did not equal expected count (3146284)\n",
      "2019-11-25 19:07:20,313 : INFO : EPOCH - 47 : training on 0 raw words (0 effective words) took 0.0s, 0 effective words/s\n",
      "2019-11-25 19:07:20,442 : WARNING : EPOCH - 47 : supplied example count (0) did not equal expected count (8046)\n",
      "2019-11-25 19:07:20,562 : WARNING : EPOCH - 47 : supplied raw word count (0) did not equal expected count (3146284)\n",
      "2019-11-25 19:07:20,833 : INFO : EPOCH - 48 : training on 0 raw words (0 effective words) took 0.0s, 0 effective words/s\n",
      "2019-11-25 19:07:20,970 : WARNING : EPOCH - 48 : supplied example count (0) did not equal expected count (8046)\n",
      "2019-11-25 19:07:21,184 : WARNING : EPOCH - 48 : supplied raw word count (0) did not equal expected count (3146284)\n",
      "2019-11-25 19:07:21,629 : INFO : EPOCH - 49 : training on 0 raw words (0 effective words) took 0.0s, 0 effective words/s\n",
      "2019-11-25 19:07:22,024 : WARNING : EPOCH - 49 : supplied example count (0) did not equal expected count (8046)\n",
      "2019-11-25 19:07:22,248 : WARNING : EPOCH - 49 : supplied raw word count (0) did not equal expected count (3146284)\n",
      "2019-11-25 19:07:22,328 : INFO : EPOCH - 50 : training on 0 raw words (0 effective words) took 0.0s, 0 effective words/s\n",
      "2019-11-25 19:07:22,633 : WARNING : EPOCH - 50 : supplied example count (0) did not equal expected count (8046)\n",
      "2019-11-25 19:07:23,298 : WARNING : EPOCH - 50 : supplied raw word count (0) did not equal expected count (3146284)\n",
      "2019-11-25 19:07:23,528 : INFO : EPOCH - 51 : training on 0 raw words (0 effective words) took 0.0s, 0 effective words/s\n",
      "2019-11-25 19:07:23,713 : WARNING : EPOCH - 51 : supplied example count (0) did not equal expected count (8046)\n",
      "2019-11-25 19:07:23,817 : WARNING : EPOCH - 51 : supplied raw word count (0) did not equal expected count (3146284)\n",
      "2019-11-25 19:07:24,071 : INFO : EPOCH - 52 : training on 0 raw words (0 effective words) took 0.0s, 0 effective words/s\n",
      "2019-11-25 19:07:24,191 : WARNING : EPOCH - 52 : supplied example count (0) did not equal expected count (8046)\n",
      "2019-11-25 19:07:24,256 : WARNING : EPOCH - 52 : supplied raw word count (0) did not equal expected count (3146284)\n",
      "2019-11-25 19:07:24,427 : INFO : EPOCH - 53 : training on 0 raw words (0 effective words) took 0.0s, 0 effective words/s\n",
      "2019-11-25 19:07:24,493 : WARNING : EPOCH - 53 : supplied example count (0) did not equal expected count (8046)\n",
      "2019-11-25 19:07:24,735 : WARNING : EPOCH - 53 : supplied raw word count (0) did not equal expected count (3146284)\n",
      "2019-11-25 19:07:25,103 : INFO : EPOCH - 54 : training on 0 raw words (0 effective words) took 0.0s, 0 effective words/s\n",
      "2019-11-25 19:07:25,176 : WARNING : EPOCH - 54 : supplied example count (0) did not equal expected count (8046)\n",
      "2019-11-25 19:07:25,222 : WARNING : EPOCH - 54 : supplied raw word count (0) did not equal expected count (3146284)\n",
      "2019-11-25 19:07:25,374 : INFO : EPOCH - 55 : training on 0 raw words (0 effective words) took 0.0s, 0 effective words/s\n",
      "2019-11-25 19:07:25,463 : WARNING : EPOCH - 55 : supplied example count (0) did not equal expected count (8046)\n",
      "2019-11-25 19:07:25,743 : WARNING : EPOCH - 55 : supplied raw word count (0) did not equal expected count (3146284)\n",
      "2019-11-25 19:07:25,969 : INFO : EPOCH - 56 : training on 0 raw words (0 effective words) took 0.0s, 0 effective words/s\n",
      "2019-11-25 19:07:26,123 : WARNING : EPOCH - 56 : supplied example count (0) did not equal expected count (8046)\n",
      "2019-11-25 19:07:26,214 : WARNING : EPOCH - 56 : supplied raw word count (0) did not equal expected count (3146284)\n",
      "2019-11-25 19:07:26,394 : INFO : EPOCH - 57 : training on 0 raw words (0 effective words) took 0.0s, 0 effective words/s\n",
      "2019-11-25 19:07:26,467 : WARNING : EPOCH - 57 : supplied example count (0) did not equal expected count (8046)\n",
      "2019-11-25 19:07:26,596 : WARNING : EPOCH - 57 : supplied raw word count (0) did not equal expected count (3146284)\n",
      "2019-11-25 19:07:26,700 : INFO : EPOCH - 58 : training on 0 raw words (0 effective words) took 0.0s, 0 effective words/s\n",
      "2019-11-25 19:07:26,984 : WARNING : EPOCH - 58 : supplied example count (0) did not equal expected count (8046)\n",
      "2019-11-25 19:07:27,126 : WARNING : EPOCH - 58 : supplied raw word count (0) did not equal expected count (3146284)\n",
      "2019-11-25 19:07:27,292 : INFO : EPOCH - 59 : training on 0 raw words (0 effective words) took 0.0s, 0 effective words/s\n",
      "2019-11-25 19:07:27,471 : WARNING : EPOCH - 59 : supplied example count (0) did not equal expected count (8046)\n",
      "2019-11-25 19:07:27,507 : WARNING : EPOCH - 59 : supplied raw word count (0) did not equal expected count (3146284)\n",
      "2019-11-25 19:07:27,738 : INFO : EPOCH - 60 : training on 0 raw words (0 effective words) took 0.0s, 0 effective words/s\n",
      "2019-11-25 19:07:27,814 : WARNING : EPOCH - 60 : supplied example count (0) did not equal expected count (8046)\n",
      "2019-11-25 19:07:27,970 : WARNING : EPOCH - 60 : supplied raw word count (0) did not equal expected count (3146284)\n",
      "2019-11-25 19:07:28,664 : INFO : EPOCH - 61 : training on 0 raw words (0 effective words) took 0.0s, 0 effective words/s\n",
      "2019-11-25 19:07:28,764 : WARNING : EPOCH - 61 : supplied example count (0) did not equal expected count (8046)\n",
      "2019-11-25 19:07:28,882 : WARNING : EPOCH - 61 : supplied raw word count (0) did not equal expected count (3146284)\n",
      "2019-11-25 19:07:29,079 : INFO : EPOCH - 62 : training on 0 raw words (0 effective words) took 0.0s, 0 effective words/s\n",
      "2019-11-25 19:07:29,175 : WARNING : EPOCH - 62 : supplied example count (0) did not equal expected count (8046)\n",
      "2019-11-25 19:07:29,307 : WARNING : EPOCH - 62 : supplied raw word count (0) did not equal expected count (3146284)\n",
      "2019-11-25 19:07:29,378 : INFO : EPOCH - 63 : training on 0 raw words (0 effective words) took 0.0s, 0 effective words/s\n",
      "2019-11-25 19:07:29,444 : WARNING : EPOCH - 63 : supplied example count (0) did not equal expected count (8046)\n",
      "2019-11-25 19:07:29,573 : WARNING : EPOCH - 63 : supplied raw word count (0) did not equal expected count (3146284)\n",
      "2019-11-25 19:07:29,756 : INFO : EPOCH - 64 : training on 0 raw words (0 effective words) took 0.0s, 0 effective words/s\n",
      "2019-11-25 19:07:29,817 : WARNING : EPOCH - 64 : supplied example count (0) did not equal expected count (8046)\n",
      "2019-11-25 19:07:29,902 : WARNING : EPOCH - 64 : supplied raw word count (0) did not equal expected count (3146284)\n",
      "2019-11-25 19:07:30,120 : INFO : EPOCH - 65 : training on 0 raw words (0 effective words) took 0.0s, 0 effective words/s\n",
      "2019-11-25 19:07:30,294 : WARNING : EPOCH - 65 : supplied example count (0) did not equal expected count (8046)\n",
      "2019-11-25 19:07:30,319 : WARNING : EPOCH - 65 : supplied raw word count (0) did not equal expected count (3146284)\n",
      "2019-11-25 19:07:30,492 : INFO : EPOCH - 66 : training on 0 raw words (0 effective words) took 0.0s, 0 effective words/s\n",
      "2019-11-25 19:07:30,567 : WARNING : EPOCH - 66 : supplied example count (0) did not equal expected count (8046)\n",
      "2019-11-25 19:07:30,670 : WARNING : EPOCH - 66 : supplied raw word count (0) did not equal expected count (3146284)\n",
      "2019-11-25 19:07:30,838 : INFO : EPOCH - 67 : training on 0 raw words (0 effective words) took 0.0s, 0 effective words/s\n",
      "2019-11-25 19:07:30,865 : WARNING : EPOCH - 67 : supplied example count (0) did not equal expected count (8046)\n",
      "2019-11-25 19:07:31,186 : WARNING : EPOCH - 67 : supplied raw word count (0) did not equal expected count (3146284)\n",
      "2019-11-25 19:07:31,518 : INFO : EPOCH - 68 : training on 0 raw words (0 effective words) took 0.0s, 0 effective words/s\n",
      "2019-11-25 19:07:31,732 : WARNING : EPOCH - 68 : supplied example count (0) did not equal expected count (8046)\n",
      "2019-11-25 19:07:31,824 : WARNING : EPOCH - 68 : supplied raw word count (0) did not equal expected count (3146284)\n",
      "2019-11-25 19:07:31,854 : INFO : EPOCH - 69 : training on 0 raw words (0 effective words) took 0.0s, 0 effective words/s\n",
      "2019-11-25 19:07:31,938 : WARNING : EPOCH - 69 : supplied example count (0) did not equal expected count (8046)\n",
      "2019-11-25 19:07:32,272 : WARNING : EPOCH - 69 : supplied raw word count (0) did not equal expected count (3146284)\n",
      "2019-11-25 19:07:32,377 : INFO : EPOCH - 70 : training on 0 raw words (0 effective words) took 0.0s, 0 effective words/s\n",
      "2019-11-25 19:07:33,384 : WARNING : EPOCH - 70 : supplied example count (0) did not equal expected count (8046)\n",
      "2019-11-25 19:07:33,561 : WARNING : EPOCH - 70 : supplied raw word count (0) did not equal expected count (3146284)\n",
      "2019-11-25 19:07:33,777 : INFO : EPOCH - 71 : training on 0 raw words (0 effective words) took 0.0s, 0 effective words/s\n",
      "2019-11-25 19:07:33,905 : WARNING : EPOCH - 71 : supplied example count (0) did not equal expected count (8046)\n",
      "2019-11-25 19:07:34,183 : WARNING : EPOCH - 71 : supplied raw word count (0) did not equal expected count (3146284)\n",
      "2019-11-25 19:07:34,449 : INFO : EPOCH - 72 : training on 0 raw words (0 effective words) took 0.0s, 0 effective words/s\n",
      "2019-11-25 19:07:34,785 : WARNING : EPOCH - 72 : supplied example count (0) did not equal expected count (8046)\n",
      "2019-11-25 19:07:34,875 : WARNING : EPOCH - 72 : supplied raw word count (0) did not equal expected count (3146284)\n",
      "2019-11-25 19:07:35,172 : INFO : EPOCH - 73 : training on 0 raw words (0 effective words) took 0.0s, 0 effective words/s\n",
      "2019-11-25 19:07:35,379 : WARNING : EPOCH - 73 : supplied example count (0) did not equal expected count (8046)\n",
      "2019-11-25 19:07:35,504 : WARNING : EPOCH - 73 : supplied raw word count (0) did not equal expected count (3146284)\n",
      "2019-11-25 19:07:35,702 : INFO : EPOCH - 74 : training on 0 raw words (0 effective words) took 0.0s, 0 effective words/s\n",
      "2019-11-25 19:07:35,737 : WARNING : EPOCH - 74 : supplied example count (0) did not equal expected count (8046)\n",
      "2019-11-25 19:07:35,865 : WARNING : EPOCH - 74 : supplied raw word count (0) did not equal expected count (3146284)\n",
      "2019-11-25 19:07:35,929 : INFO : EPOCH - 75 : training on 0 raw words (0 effective words) took 0.0s, 0 effective words/s\n",
      "2019-11-25 19:07:36,156 : WARNING : EPOCH - 75 : supplied example count (0) did not equal expected count (8046)\n",
      "2019-11-25 19:07:36,451 : WARNING : EPOCH - 75 : supplied raw word count (0) did not equal expected count (3146284)\n",
      "2019-11-25 19:07:36,653 : INFO : EPOCH - 76 : training on 0 raw words (0 effective words) took 0.0s, 0 effective words/s\n",
      "2019-11-25 19:07:36,812 : WARNING : EPOCH - 76 : supplied example count (0) did not equal expected count (8046)\n",
      "2019-11-25 19:07:37,010 : WARNING : EPOCH - 76 : supplied raw word count (0) did not equal expected count (3146284)\n",
      "2019-11-25 19:07:37,264 : INFO : EPOCH - 77 : training on 0 raw words (0 effective words) took 0.0s, 0 effective words/s\n",
      "2019-11-25 19:07:37,396 : WARNING : EPOCH - 77 : supplied example count (0) did not equal expected count (8046)\n",
      "2019-11-25 19:07:37,593 : WARNING : EPOCH - 77 : supplied raw word count (0) did not equal expected count (3146284)\n",
      "2019-11-25 19:07:38,404 : INFO : EPOCH - 78 : training on 0 raw words (0 effective words) took 0.0s, 0 effective words/s\n",
      "2019-11-25 19:07:38,500 : WARNING : EPOCH - 78 : supplied example count (0) did not equal expected count (8046)\n",
      "2019-11-25 19:07:38,741 : WARNING : EPOCH - 78 : supplied raw word count (0) did not equal expected count (3146284)\n",
      "2019-11-25 19:07:38,846 : INFO : EPOCH - 79 : training on 0 raw words (0 effective words) took 0.0s, 0 effective words/s\n",
      "2019-11-25 19:07:38,938 : WARNING : EPOCH - 79 : supplied example count (0) did not equal expected count (8046)\n",
      "2019-11-25 19:07:39,013 : WARNING : EPOCH - 79 : supplied raw word count (0) did not equal expected count (3146284)\n",
      "2019-11-25 19:07:39,274 : INFO : EPOCH - 80 : training on 0 raw words (0 effective words) took 0.0s, 0 effective words/s\n",
      "2019-11-25 19:07:39,312 : WARNING : EPOCH - 80 : supplied example count (0) did not equal expected count (8046)\n",
      "2019-11-25 19:07:39,349 : WARNING : EPOCH - 80 : supplied raw word count (0) did not equal expected count (3146284)\n",
      "2019-11-25 19:07:39,362 : INFO : EPOCH - 81 : training on 0 raw words (0 effective words) took 0.0s, 0 effective words/s\n",
      "2019-11-25 19:07:39,651 : WARNING : EPOCH - 81 : supplied example count (0) did not equal expected count (8046)\n",
      "2019-11-25 19:07:39,762 : WARNING : EPOCH - 81 : supplied raw word count (0) did not equal expected count (3146284)\n",
      "2019-11-25 19:07:39,893 : INFO : EPOCH - 82 : training on 0 raw words (0 effective words) took 0.0s, 0 effective words/s\n",
      "2019-11-25 19:07:39,940 : WARNING : EPOCH - 82 : supplied example count (0) did not equal expected count (8046)\n",
      "2019-11-25 19:07:40,042 : WARNING : EPOCH - 82 : supplied raw word count (0) did not equal expected count (3146284)\n",
      "2019-11-25 19:07:40,128 : INFO : EPOCH - 83 : training on 0 raw words (0 effective words) took 0.0s, 0 effective words/s\n",
      "2019-11-25 19:07:40,206 : WARNING : EPOCH - 83 : supplied example count (0) did not equal expected count (8046)\n",
      "2019-11-25 19:07:40,363 : WARNING : EPOCH - 83 : supplied raw word count (0) did not equal expected count (3146284)\n",
      "2019-11-25 19:07:40,550 : INFO : EPOCH - 84 : training on 0 raw words (0 effective words) took 0.0s, 0 effective words/s\n",
      "2019-11-25 19:07:40,749 : WARNING : EPOCH - 84 : supplied example count (0) did not equal expected count (8046)\n",
      "2019-11-25 19:07:41,081 : WARNING : EPOCH - 84 : supplied raw word count (0) did not equal expected count (3146284)\n",
      "2019-11-25 19:07:41,221 : INFO : EPOCH - 85 : training on 0 raw words (0 effective words) took 0.0s, 0 effective words/s\n",
      "2019-11-25 19:07:41,340 : WARNING : EPOCH - 85 : supplied example count (0) did not equal expected count (8046)\n",
      "2019-11-25 19:07:41,560 : WARNING : EPOCH - 85 : supplied raw word count (0) did not equal expected count (3146284)\n",
      "2019-11-25 19:07:41,727 : INFO : EPOCH - 86 : training on 0 raw words (0 effective words) took 0.0s, 0 effective words/s\n",
      "2019-11-25 19:07:41,801 : WARNING : EPOCH - 86 : supplied example count (0) did not equal expected count (8046)\n",
      "2019-11-25 19:07:41,860 : WARNING : EPOCH - 86 : supplied raw word count (0) did not equal expected count (3146284)\n",
      "2019-11-25 19:07:41,942 : INFO : EPOCH - 87 : training on 0 raw words (0 effective words) took 0.0s, 0 effective words/s\n",
      "2019-11-25 19:07:42,142 : WARNING : EPOCH - 87 : supplied example count (0) did not equal expected count (8046)\n",
      "2019-11-25 19:07:42,149 : WARNING : EPOCH - 87 : supplied raw word count (0) did not equal expected count (3146284)\n",
      "2019-11-25 19:07:42,213 : INFO : EPOCH - 88 : training on 0 raw words (0 effective words) took 0.0s, 0 effective words/s\n",
      "2019-11-25 19:07:42,264 : WARNING : EPOCH - 88 : supplied example count (0) did not equal expected count (8046)\n",
      "2019-11-25 19:07:42,366 : WARNING : EPOCH - 88 : supplied raw word count (0) did not equal expected count (3146284)\n",
      "2019-11-25 19:07:42,592 : INFO : EPOCH - 89 : training on 0 raw words (0 effective words) took 0.0s, 0 effective words/s\n",
      "2019-11-25 19:07:42,708 : WARNING : EPOCH - 89 : supplied example count (0) did not equal expected count (8046)\n",
      "2019-11-25 19:07:42,912 : WARNING : EPOCH - 89 : supplied raw word count (0) did not equal expected count (3146284)\n",
      "2019-11-25 19:07:43,021 : INFO : EPOCH - 90 : training on 0 raw words (0 effective words) took 0.0s, 0 effective words/s\n",
      "2019-11-25 19:07:43,915 : WARNING : EPOCH - 90 : supplied example count (0) did not equal expected count (8046)\n",
      "2019-11-25 19:07:43,961 : WARNING : EPOCH - 90 : supplied raw word count (0) did not equal expected count (3146284)\n",
      "2019-11-25 19:07:44,024 : INFO : EPOCH - 91 : training on 0 raw words (0 effective words) took 0.0s, 0 effective words/s\n",
      "2019-11-25 19:07:44,216 : WARNING : EPOCH - 91 : supplied example count (0) did not equal expected count (8046)\n",
      "2019-11-25 19:07:44,391 : WARNING : EPOCH - 91 : supplied raw word count (0) did not equal expected count (3146284)\n",
      "2019-11-25 19:07:44,786 : INFO : EPOCH - 92 : training on 0 raw words (0 effective words) took 0.0s, 0 effective words/s\n",
      "2019-11-25 19:07:45,096 : WARNING : EPOCH - 92 : supplied example count (0) did not equal expected count (8046)\n",
      "2019-11-25 19:07:45,248 : WARNING : EPOCH - 92 : supplied raw word count (0) did not equal expected count (3146284)\n",
      "2019-11-25 19:07:45,362 : INFO : EPOCH - 93 : training on 0 raw words (0 effective words) took 0.0s, 0 effective words/s\n",
      "2019-11-25 19:07:45,644 : WARNING : EPOCH - 93 : supplied example count (0) did not equal expected count (8046)\n",
      "2019-11-25 19:07:45,710 : WARNING : EPOCH - 93 : supplied raw word count (0) did not equal expected count (3146284)\n",
      "2019-11-25 19:07:45,932 : INFO : EPOCH - 94 : training on 0 raw words (0 effective words) took 0.0s, 0 effective words/s\n",
      "2019-11-25 19:07:46,249 : WARNING : EPOCH - 94 : supplied example count (0) did not equal expected count (8046)\n",
      "2019-11-25 19:07:46,441 : WARNING : EPOCH - 94 : supplied raw word count (0) did not equal expected count (3146284)\n",
      "2019-11-25 19:07:46,653 : INFO : EPOCH - 95 : training on 0 raw words (0 effective words) took 0.0s, 0 effective words/s\n",
      "2019-11-25 19:07:46,839 : WARNING : EPOCH - 95 : supplied example count (0) did not equal expected count (8046)\n",
      "2019-11-25 19:07:46,923 : WARNING : EPOCH - 95 : supplied raw word count (0) did not equal expected count (3146284)\n",
      "2019-11-25 19:07:47,143 : INFO : EPOCH - 96 : training on 0 raw words (0 effective words) took 0.0s, 0 effective words/s\n",
      "2019-11-25 19:07:47,188 : WARNING : EPOCH - 96 : supplied example count (0) did not equal expected count (8046)\n",
      "2019-11-25 19:07:47,310 : WARNING : EPOCH - 96 : supplied raw word count (0) did not equal expected count (3146284)\n",
      "2019-11-25 19:07:47,492 : INFO : EPOCH - 97 : training on 0 raw words (0 effective words) took 0.0s, 0 effective words/s\n",
      "2019-11-25 19:07:47,665 : WARNING : EPOCH - 97 : supplied example count (0) did not equal expected count (8046)\n",
      "2019-11-25 19:07:48,812 : WARNING : EPOCH - 97 : supplied raw word count (0) did not equal expected count (3146284)\n",
      "2019-11-25 19:07:48,958 : INFO : EPOCH - 98 : training on 0 raw words (0 effective words) took 0.0s, 0 effective words/s\n",
      "2019-11-25 19:07:49,099 : WARNING : EPOCH - 98 : supplied example count (0) did not equal expected count (8046)\n",
      "2019-11-25 19:07:49,140 : WARNING : EPOCH - 98 : supplied raw word count (0) did not equal expected count (3146284)\n",
      "2019-11-25 19:07:49,572 : INFO : EPOCH - 99 : training on 0 raw words (0 effective words) took 0.0s, 0 effective words/s\n",
      "2019-11-25 19:07:49,797 : WARNING : EPOCH - 99 : supplied example count (0) did not equal expected count (8046)\n",
      "2019-11-25 19:07:50,174 : WARNING : EPOCH - 99 : supplied raw word count (0) did not equal expected count (3146284)\n",
      "2019-11-25 19:07:50,300 : INFO : EPOCH - 100 : training on 0 raw words (0 effective words) took 0.0s, 0 effective words/s\n",
      "2019-11-25 19:07:50,602 : WARNING : EPOCH - 100 : supplied example count (0) did not equal expected count (8046)\n",
      "2019-11-25 19:07:50,740 : WARNING : EPOCH - 100 : supplied raw word count (0) did not equal expected count (3146284)\n",
      "2019-11-25 19:07:50,741 : INFO : training on a 0 raw words (0 effective words) took 51.1s, 0 effective words/s\n"
     ]
    },
    {
     "name": "stdout",
     "output_type": "stream",
     "text": [
      "CPU times: user 1min 1s, sys: 5.49 s, total: 1min 7s\n",
      "Wall time: 1min 3s\n"
     ]
    }
   ],
   "source": [
    "%%time\n",
    "#train doc2vec model\n",
    "model = g.Doc2Vec(docs, size=vector_size, window=window_size, min_count=min_count, sample=sampling_threshold, workers=worker_count, hs=0, dm=dm, negative=negative_size, dbow_words=1, dm_concat=1, pretrained_emb=pretrained_emb, iter=train_epoch)\n"
   ]
  },
  {
   "cell_type": "code",
   "execution_count": 45,
   "metadata": {},
   "outputs": [
    {
     "name": "stderr",
     "output_type": "stream",
     "text": [
      "2019-11-25 19:09:50,225 : INFO : saving Doc2Vec object under my_model.bin, separately None\n",
      "2019-11-25 19:09:50,227 : INFO : storing np array 'syn1neg' to my_model.bin.trainables.syn1neg.npy\n",
      "2019-11-25 19:09:50,300 : INFO : storing np array 'vectors' to my_model.bin.wv.vectors.npy\n",
      "2019-11-25 19:09:50,542 : INFO : saved my_model.bin\n"
     ]
    }
   ],
   "source": [
    "#save model\n",
    "model.save(saved_path)"
   ]
  },
  {
   "cell_type": "markdown",
   "metadata": {},
   "source": [
    "## Loading the tuned model and encoding the paragraphs"
   ]
  },
  {
   "cell_type": "code",
   "execution_count": 13,
   "metadata": {},
   "outputs": [],
   "source": [
    "#parameters\n",
    "model=\"my_model.bin\""
   ]
  },
  {
   "cell_type": "code",
   "execution_count": 14,
   "metadata": {},
   "outputs": [],
   "source": [
    "#inference hyper-parameters\n",
    "start_alpha=0.01\n",
    "infer_epoch=1000"
   ]
  },
  {
   "cell_type": "code",
   "execution_count": 15,
   "metadata": {},
   "outputs": [],
   "source": [
    "#load model\n",
    "m2 = g.Doc2Vec.load(model)"
   ]
  },
  {
   "cell_type": "code",
   "execution_count": null,
   "metadata": {},
   "outputs": [],
   "source": []
  },
  {
   "cell_type": "code",
   "execution_count": 17,
   "metadata": {},
   "outputs": [
    {
     "name": "stdout",
     "output_type": "stream",
     "text": [
      "CPU times: user 4.38 s, sys: 2.12 s, total: 6.5 s\n",
      "Wall time: 1min 28s\n"
     ]
    }
   ],
   "source": [
    "%%time\n",
    "with Pool(cores) as p:\n",
    "    my_text1_rep = p.map(m2.infer_vector, test_docs_1)"
   ]
  },
  {
   "cell_type": "code",
   "execution_count": 19,
   "metadata": {},
   "outputs": [
    {
     "data": {
      "text/plain": [
       "300"
      ]
     },
     "execution_count": 19,
     "metadata": {},
     "output_type": "execute_result"
    }
   ],
   "source": [
    "len(my_text1_rep[1])"
   ]
  },
  {
   "cell_type": "code",
   "execution_count": 20,
   "metadata": {},
   "outputs": [],
   "source": [
    "my_text1_rep_np = np.array(my_text1_rep)"
   ]
  },
  {
   "cell_type": "code",
   "execution_count": 21,
   "metadata": {},
   "outputs": [
    {
     "data": {
      "text/plain": [
       "(4023, 300)"
      ]
     },
     "execution_count": 21,
     "metadata": {},
     "output_type": "execute_result"
    }
   ],
   "source": [
    "my_text1_rep_np.shape"
   ]
  },
  {
   "cell_type": "code",
   "execution_count": 22,
   "metadata": {},
   "outputs": [
    {
     "name": "stdout",
     "output_type": "stream",
     "text": [
      "CPU times: user 4.2 s, sys: 2.33 s, total: 6.52 s\n",
      "Wall time: 1min 27s\n"
     ]
    }
   ],
   "source": [
    "%%time\n",
    "with Pool(cores) as p:\n",
    "    my_text2_rep = p.map(m2.infer_vector, test_docs_2)"
   ]
  },
  {
   "cell_type": "code",
   "execution_count": 30,
   "metadata": {},
   "outputs": [],
   "source": [
    "np.save('after_tuning/tuned_text1_vec.npy',my_text1_rep)"
   ]
  },
  {
   "cell_type": "code",
   "execution_count": 29,
   "metadata": {},
   "outputs": [],
   "source": [
    "np.save('after_tuning/tuned_text2_vec.npy',my_text2_rep)"
   ]
  },
  {
   "cell_type": "code",
   "execution_count": 72,
   "metadata": {},
   "outputs": [],
   "source": [
    "my_text1_vec_load = np.load('after_tuning/tuned_text1_vec.npy')"
   ]
  },
  {
   "cell_type": "code",
   "execution_count": 73,
   "metadata": {},
   "outputs": [],
   "source": [
    "my_text2_vec_load = np.load('after_tuning/tuned_text2_vec.npy')"
   ]
  },
  {
   "cell_type": "code",
   "execution_count": 74,
   "metadata": {},
   "outputs": [
    {
     "name": "stdout",
     "output_type": "stream",
     "text": [
      "CPU times: user 263 ms, sys: 12 ms, total: 275 ms\n",
      "Wall time: 139 ms\n"
     ]
    }
   ],
   "source": [
    "%%time\n",
    "tuned_cos_sim = cosine_similarity(my_text1_vec_load, my_text2_vec_load)"
   ]
  },
  {
   "cell_type": "code",
   "execution_count": 75,
   "metadata": {},
   "outputs": [],
   "source": [
    "tuned_cosine_sim = []"
   ]
  },
  {
   "cell_type": "code",
   "execution_count": 76,
   "metadata": {},
   "outputs": [
    {
     "name": "stdout",
     "output_type": "stream",
     "text": [
      "CPU times: user 7.23 ms, sys: 0 ns, total: 7.23 ms\n",
      "Wall time: 6.9 ms\n"
     ]
    }
   ],
   "source": [
    "%%time\n",
    "for i in range(len(data)):\n",
    "    tuned_cosine_sim.append(tuned_cos_sim[i][i])"
   ]
  },
  {
   "cell_type": "code",
   "execution_count": 90,
   "metadata": {},
   "outputs": [],
   "source": [
    "minn = min(tuned_cosine_sim)"
   ]
  },
  {
   "cell_type": "code",
   "execution_count": 91,
   "metadata": {},
   "outputs": [
    {
     "data": {
      "text/plain": [
       "-0.2273439"
      ]
     },
     "execution_count": 91,
     "metadata": {},
     "output_type": "execute_result"
    }
   ],
   "source": [
    "minn"
   ]
  },
  {
   "cell_type": "code",
   "execution_count": 107,
   "metadata": {},
   "outputs": [
    {
     "data": {
      "image/png": "[encoded data removed]",
      "text/plain": [
       "<Figure size 432x288 with 1 Axes>"
      ]
     },
     "metadata": {
      "needs_background": "light"
     },
     "output_type": "display_data"
    }
   ],
   "source": [
    "x = np.array(data.Unique_ID)\n",
    "y = tuned_cosine_sim\n",
    "\n",
    "plt.scatter(x,y)\n",
    "plt.title(\"after tuning\")\n",
    "plt.xlabel(\"Unique_ID\")\n",
    "plt.ylabel(\"cosine_similarity\")\n",
    "plt.show()"
   ]
  },
  {
   "cell_type": "code",
   "execution_count": null,
   "metadata": {},
   "outputs": [],
   "source": []
  }
 ],
 "metadata": {
  "kernelspec": {
   "display_name": "Python 3",
   "language": "python",
   "name": "python3"
  },
  "language_info": {
   "codemirror_mode": {
    "name": "ipython",
    "version": 3
   },
   "file_extension": ".py",
   "mimetype": "text/x-python",
   "name": "python",
   "nbconvert_exporter": "python",
   "pygments_lexer": "ipython3",
   "version": "3.7.4"
  }
 },
 "nbformat": 4,
 "nbformat_minor": 4
}
